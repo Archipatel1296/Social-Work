{
  "nbformat": 4,
  "nbformat_minor": 0,
  "metadata": {
    "colab": {
      "provenance": [],
      "include_colab_link": true
    },
    "kernelspec": {
      "name": "python3",
      "display_name": "Python 3"
    },
    "language_info": {
      "name": "python"
    }
  },
  "cells": [
    {
      "cell_type": "markdown",
      "metadata": {
        "id": "view-in-github",
        "colab_type": "text"
      },
      "source": [
        "<a href=\"https://colab.research.google.com/github/Archipatel1296/Social-Work/blob/main/S%26P_500_A_Numbers_Game.ipynb\" target=\"_parent\"><img src=\"https://colab.research.google.com/assets/colab-badge.svg\" alt=\"Open In Colab\"/></a>"
      ]
    },
    {
      "cell_type": "markdown",
      "source": [
        "# S&P 500: A Numbers Game\n",
        "#### By: Archi Patel (018209919) and Ayush Mahajan (017617054)"
      ],
      "metadata": {
        "id": "wuFHag7cCOOU"
      }
    },
    {
      "cell_type": "markdown",
      "source": [
        "# Introduction\n",
        "Through this project we are trying to find the best investments that can be made in S&P 500 Companies. We will do this using 3 methods:   \n",
        "\n",
        "1) Correlation: By finding out whether there exists a correlation between the number of full time employees in a company and the company's marketcap    \n",
        "\n",
        "2) One-Way ANOVA: Using a one-way ANOVA, i.e. Analysis of Variance, we will try to check for statistical significance between market sectors.  \n",
        "\n",
        "3) Regression: Lastly, by relating a company's revenue growth and marketcap, we will use regression to find a pattern."
      ],
      "metadata": {
        "id": "86aNwseZCjXy"
      }
    },
    {
      "cell_type": "markdown",
      "source": [
        "#The Dataset  \n",
        "This is the dataset containing the S&P 500 companies. This is what we will use for all our calculations.   \n",
        "We first import all the needed modules for this project.\n"
      ],
      "metadata": {
        "id": "ePBpII4PDzsj"
      }
    },
    {
      "cell_type": "code",
      "source": [
        "import pandas as pd\n",
        "import numpy as np\n",
        "import matplotlib.pyplot as plt\n",
        "import seaborn as sns\n",
        "from scipy.stats import pearsonr\n",
        "from scipy import stats"
      ],
      "metadata": {
        "id": "iazPjvtREqZB"
      },
      "execution_count": null,
      "outputs": []
    },
    {
      "cell_type": "markdown",
      "source": [
        "Descriptions of this dataset:\n",
        "\n",
        "- `Exchange`: Exchange where its stocks are negotiated\n",
        "- `Symbol`: Stock symbol\n",
        "- `Shortname`: Company short name\n",
        "- `Longname`: Company long name\n",
        "- `Sector`: Sector where the company operates\n",
        "- `Industry`: Industry, within a sector, where the company operates.\n",
        "- `Currentprice`: Current stock price\n",
        "- `Marketcap`: Current marketcap\n",
        "- `Ebitda`: Earnings before interest, taxes, depreciation and amortization\n",
        "- `Revenuegrowth`: Revenue growth\n",
        "- `City`: City\n",
        "- `State`: State\n",
        "- `Country`: Country\n",
        "- `Fulltimeemployees`: Number of full time employees\n",
        "- `Longbusinesssummary`: Summary of the company\n",
        "- `Weight`: Percentage of participation on the S&P index (marketcap %)"
      ],
      "metadata": {
        "id": "F4bJKWZdE8qF"
      }
    },
    {
      "cell_type": "code",
      "source": [
        "url = 'https://raw.githubusercontent.com/csbfx/cs22a/main/sp500_companies.csv'\n",
        "df = pd.read_csv(url)\n",
        "\n",
        "df.head() #Prints the first 5 rows of the datset"
      ],
      "metadata": {
        "colab": {
          "base_uri": "https://localhost:8080/",
          "height": 400
        },
        "id": "peAUlGUoE_t_",
        "outputId": "933dab51-2e43-4f0a-d75e-b8461c98cd98"
      },
      "execution_count": null,
      "outputs": [
        {
          "output_type": "execute_result",
          "data": {
            "text/plain": [
              "  Exchange Symbol              Shortname               Longname  \\\n",
              "0      NMS   AAPL             Apple Inc.             Apple Inc.   \n",
              "1      NMS   MSFT  Microsoft Corporation  Microsoft Corporation   \n",
              "2      NMS   GOOG          Alphabet Inc.          Alphabet Inc.   \n",
              "3      NMS  GOOGL          Alphabet Inc.          Alphabet Inc.   \n",
              "4      NMS   AMZN       Amazon.com, Inc.       Amazon.com, Inc.   \n",
              "\n",
              "                   Sector                        Industry  Currentprice  \\\n",
              "0              Technology            Consumer Electronics        155.74   \n",
              "1              Technology         Software—Infrastructure        235.87   \n",
              "2  Communication Services  Internet Content & Information         96.58   \n",
              "3  Communication Services  Internet Content & Information         96.29   \n",
              "4       Consumer Cyclical                 Internet Retail        103.41   \n",
              "\n",
              "       Marketcap        Ebitda  Revenuegrowth           City State  \\\n",
              "0  2502866501632  1.305410e+11          0.081      Cupertino    CA   \n",
              "1  1770907107328  9.798300e+10          0.124        Redmond    WA   \n",
              "2  1248045432832  9.373300e+10          0.061  Mountain View    CA   \n",
              "3  1248043597824  9.373300e+10          0.061  Mountain View    CA   \n",
              "4  1054957895680  5.154900e+10          0.147        Seattle    WA   \n",
              "\n",
              "         Country  Fulltimeemployees  \\\n",
              "0  United States           164000.0   \n",
              "1  United States           221000.0   \n",
              "2  United States           186779.0   \n",
              "3  United States           186779.0   \n",
              "4  United States          1544000.0   \n",
              "\n",
              "                                 Longbusinesssummary    Weight  \n",
              "0  Apple Inc. designs, manufactures, and markets ...  0.072117  \n",
              "1  Microsoft Corporation develops, licenses, and ...  0.051026  \n",
              "2  Alphabet Inc. provides various products and pl...  0.035961  \n",
              "3  Alphabet Inc. provides various products and pl...  0.035961  \n",
              "4  Amazon.com, Inc. engages in the retail sale of...  0.030397  "
            ],
            "text/html": [
              "\n",
              "  <div id=\"df-d78dbeba-8683-433c-8042-c1bbca68300f\" class=\"colab-df-container\">\n",
              "    <div>\n",
              "<style scoped>\n",
              "    .dataframe tbody tr th:only-of-type {\n",
              "        vertical-align: middle;\n",
              "    }\n",
              "\n",
              "    .dataframe tbody tr th {\n",
              "        vertical-align: top;\n",
              "    }\n",
              "\n",
              "    .dataframe thead th {\n",
              "        text-align: right;\n",
              "    }\n",
              "</style>\n",
              "<table border=\"1\" class=\"dataframe\">\n",
              "  <thead>\n",
              "    <tr style=\"text-align: right;\">\n",
              "      <th></th>\n",
              "      <th>Exchange</th>\n",
              "      <th>Symbol</th>\n",
              "      <th>Shortname</th>\n",
              "      <th>Longname</th>\n",
              "      <th>Sector</th>\n",
              "      <th>Industry</th>\n",
              "      <th>Currentprice</th>\n",
              "      <th>Marketcap</th>\n",
              "      <th>Ebitda</th>\n",
              "      <th>Revenuegrowth</th>\n",
              "      <th>City</th>\n",
              "      <th>State</th>\n",
              "      <th>Country</th>\n",
              "      <th>Fulltimeemployees</th>\n",
              "      <th>Longbusinesssummary</th>\n",
              "      <th>Weight</th>\n",
              "    </tr>\n",
              "  </thead>\n",
              "  <tbody>\n",
              "    <tr>\n",
              "      <th>0</th>\n",
              "      <td>NMS</td>\n",
              "      <td>AAPL</td>\n",
              "      <td>Apple Inc.</td>\n",
              "      <td>Apple Inc.</td>\n",
              "      <td>Technology</td>\n",
              "      <td>Consumer Electronics</td>\n",
              "      <td>155.74</td>\n",
              "      <td>2502866501632</td>\n",
              "      <td>1.305410e+11</td>\n",
              "      <td>0.081</td>\n",
              "      <td>Cupertino</td>\n",
              "      <td>CA</td>\n",
              "      <td>United States</td>\n",
              "      <td>164000.0</td>\n",
              "      <td>Apple Inc. designs, manufactures, and markets ...</td>\n",
              "      <td>0.072117</td>\n",
              "    </tr>\n",
              "    <tr>\n",
              "      <th>1</th>\n",
              "      <td>NMS</td>\n",
              "      <td>MSFT</td>\n",
              "      <td>Microsoft Corporation</td>\n",
              "      <td>Microsoft Corporation</td>\n",
              "      <td>Technology</td>\n",
              "      <td>Software—Infrastructure</td>\n",
              "      <td>235.87</td>\n",
              "      <td>1770907107328</td>\n",
              "      <td>9.798300e+10</td>\n",
              "      <td>0.124</td>\n",
              "      <td>Redmond</td>\n",
              "      <td>WA</td>\n",
              "      <td>United States</td>\n",
              "      <td>221000.0</td>\n",
              "      <td>Microsoft Corporation develops, licenses, and ...</td>\n",
              "      <td>0.051026</td>\n",
              "    </tr>\n",
              "    <tr>\n",
              "      <th>2</th>\n",
              "      <td>NMS</td>\n",
              "      <td>GOOG</td>\n",
              "      <td>Alphabet Inc.</td>\n",
              "      <td>Alphabet Inc.</td>\n",
              "      <td>Communication Services</td>\n",
              "      <td>Internet Content &amp; Information</td>\n",
              "      <td>96.58</td>\n",
              "      <td>1248045432832</td>\n",
              "      <td>9.373300e+10</td>\n",
              "      <td>0.061</td>\n",
              "      <td>Mountain View</td>\n",
              "      <td>CA</td>\n",
              "      <td>United States</td>\n",
              "      <td>186779.0</td>\n",
              "      <td>Alphabet Inc. provides various products and pl...</td>\n",
              "      <td>0.035961</td>\n",
              "    </tr>\n",
              "    <tr>\n",
              "      <th>3</th>\n",
              "      <td>NMS</td>\n",
              "      <td>GOOGL</td>\n",
              "      <td>Alphabet Inc.</td>\n",
              "      <td>Alphabet Inc.</td>\n",
              "      <td>Communication Services</td>\n",
              "      <td>Internet Content &amp; Information</td>\n",
              "      <td>96.29</td>\n",
              "      <td>1248043597824</td>\n",
              "      <td>9.373300e+10</td>\n",
              "      <td>0.061</td>\n",
              "      <td>Mountain View</td>\n",
              "      <td>CA</td>\n",
              "      <td>United States</td>\n",
              "      <td>186779.0</td>\n",
              "      <td>Alphabet Inc. provides various products and pl...</td>\n",
              "      <td>0.035961</td>\n",
              "    </tr>\n",
              "    <tr>\n",
              "      <th>4</th>\n",
              "      <td>NMS</td>\n",
              "      <td>AMZN</td>\n",
              "      <td>Amazon.com, Inc.</td>\n",
              "      <td>Amazon.com, Inc.</td>\n",
              "      <td>Consumer Cyclical</td>\n",
              "      <td>Internet Retail</td>\n",
              "      <td>103.41</td>\n",
              "      <td>1054957895680</td>\n",
              "      <td>5.154900e+10</td>\n",
              "      <td>0.147</td>\n",
              "      <td>Seattle</td>\n",
              "      <td>WA</td>\n",
              "      <td>United States</td>\n",
              "      <td>1544000.0</td>\n",
              "      <td>Amazon.com, Inc. engages in the retail sale of...</td>\n",
              "      <td>0.030397</td>\n",
              "    </tr>\n",
              "  </tbody>\n",
              "</table>\n",
              "</div>\n",
              "    <div class=\"colab-df-buttons\">\n",
              "\n",
              "  <div class=\"colab-df-container\">\n",
              "    <button class=\"colab-df-convert\" onclick=\"convertToInteractive('df-d78dbeba-8683-433c-8042-c1bbca68300f')\"\n",
              "            title=\"Convert this dataframe to an interactive table.\"\n",
              "            style=\"display:none;\">\n",
              "\n",
              "  <svg xmlns=\"http://www.w3.org/2000/svg\" height=\"24px\" viewBox=\"0 -960 960 960\">\n",
              "    <path d=\"M120-120v-720h720v720H120Zm60-500h600v-160H180v160Zm220 220h160v-160H400v160Zm0 220h160v-160H400v160ZM180-400h160v-160H180v160Zm440 0h160v-160H620v160ZM180-180h160v-160H180v160Zm440 0h160v-160H620v160Z\"/>\n",
              "  </svg>\n",
              "    </button>\n",
              "\n",
              "  <style>\n",
              "    .colab-df-container {\n",
              "      display:flex;\n",
              "      gap: 12px;\n",
              "    }\n",
              "\n",
              "    .colab-df-convert {\n",
              "      background-color: #E8F0FE;\n",
              "      border: none;\n",
              "      border-radius: 50%;\n",
              "      cursor: pointer;\n",
              "      display: none;\n",
              "      fill: #1967D2;\n",
              "      height: 32px;\n",
              "      padding: 0 0 0 0;\n",
              "      width: 32px;\n",
              "    }\n",
              "\n",
              "    .colab-df-convert:hover {\n",
              "      background-color: #E2EBFA;\n",
              "      box-shadow: 0px 1px 2px rgba(60, 64, 67, 0.3), 0px 1px 3px 1px rgba(60, 64, 67, 0.15);\n",
              "      fill: #174EA6;\n",
              "    }\n",
              "\n",
              "    .colab-df-buttons div {\n",
              "      margin-bottom: 4px;\n",
              "    }\n",
              "\n",
              "    [theme=dark] .colab-df-convert {\n",
              "      background-color: #3B4455;\n",
              "      fill: #D2E3FC;\n",
              "    }\n",
              "\n",
              "    [theme=dark] .colab-df-convert:hover {\n",
              "      background-color: #434B5C;\n",
              "      box-shadow: 0px 1px 3px 1px rgba(0, 0, 0, 0.15);\n",
              "      filter: drop-shadow(0px 1px 2px rgba(0, 0, 0, 0.3));\n",
              "      fill: #FFFFFF;\n",
              "    }\n",
              "  </style>\n",
              "\n",
              "    <script>\n",
              "      const buttonEl =\n",
              "        document.querySelector('#df-d78dbeba-8683-433c-8042-c1bbca68300f button.colab-df-convert');\n",
              "      buttonEl.style.display =\n",
              "        google.colab.kernel.accessAllowed ? 'block' : 'none';\n",
              "\n",
              "      async function convertToInteractive(key) {\n",
              "        const element = document.querySelector('#df-d78dbeba-8683-433c-8042-c1bbca68300f');\n",
              "        const dataTable =\n",
              "          await google.colab.kernel.invokeFunction('convertToInteractive',\n",
              "                                                    [key], {});\n",
              "        if (!dataTable) return;\n",
              "\n",
              "        const docLinkHtml = 'Like what you see? Visit the ' +\n",
              "          '<a target=\"_blank\" href=https://colab.research.google.com/notebooks/data_table.ipynb>data table notebook</a>'\n",
              "          + ' to learn more about interactive tables.';\n",
              "        element.innerHTML = '';\n",
              "        dataTable['output_type'] = 'display_data';\n",
              "        await google.colab.output.renderOutput(dataTable, element);\n",
              "        const docLink = document.createElement('div');\n",
              "        docLink.innerHTML = docLinkHtml;\n",
              "        element.appendChild(docLink);\n",
              "      }\n",
              "    </script>\n",
              "  </div>\n",
              "\n",
              "\n",
              "<div id=\"df-8f019c4c-c084-426b-bc5d-efde12b30c65\">\n",
              "  <button class=\"colab-df-quickchart\" onclick=\"quickchart('df-8f019c4c-c084-426b-bc5d-efde12b30c65')\"\n",
              "            title=\"Suggest charts\"\n",
              "            style=\"display:none;\">\n",
              "\n",
              "<svg xmlns=\"http://www.w3.org/2000/svg\" height=\"24px\"viewBox=\"0 0 24 24\"\n",
              "     width=\"24px\">\n",
              "    <g>\n",
              "        <path d=\"M19 3H5c-1.1 0-2 .9-2 2v14c0 1.1.9 2 2 2h14c1.1 0 2-.9 2-2V5c0-1.1-.9-2-2-2zM9 17H7v-7h2v7zm4 0h-2V7h2v10zm4 0h-2v-4h2v4z\"/>\n",
              "    </g>\n",
              "</svg>\n",
              "  </button>\n",
              "\n",
              "<style>\n",
              "  .colab-df-quickchart {\n",
              "      --bg-color: #E8F0FE;\n",
              "      --fill-color: #1967D2;\n",
              "      --hover-bg-color: #E2EBFA;\n",
              "      --hover-fill-color: #174EA6;\n",
              "      --disabled-fill-color: #AAA;\n",
              "      --disabled-bg-color: #DDD;\n",
              "  }\n",
              "\n",
              "  [theme=dark] .colab-df-quickchart {\n",
              "      --bg-color: #3B4455;\n",
              "      --fill-color: #D2E3FC;\n",
              "      --hover-bg-color: #434B5C;\n",
              "      --hover-fill-color: #FFFFFF;\n",
              "      --disabled-bg-color: #3B4455;\n",
              "      --disabled-fill-color: #666;\n",
              "  }\n",
              "\n",
              "  .colab-df-quickchart {\n",
              "    background-color: var(--bg-color);\n",
              "    border: none;\n",
              "    border-radius: 50%;\n",
              "    cursor: pointer;\n",
              "    display: none;\n",
              "    fill: var(--fill-color);\n",
              "    height: 32px;\n",
              "    padding: 0;\n",
              "    width: 32px;\n",
              "  }\n",
              "\n",
              "  .colab-df-quickchart:hover {\n",
              "    background-color: var(--hover-bg-color);\n",
              "    box-shadow: 0 1px 2px rgba(60, 64, 67, 0.3), 0 1px 3px 1px rgba(60, 64, 67, 0.15);\n",
              "    fill: var(--button-hover-fill-color);\n",
              "  }\n",
              "\n",
              "  .colab-df-quickchart-complete:disabled,\n",
              "  .colab-df-quickchart-complete:disabled:hover {\n",
              "    background-color: var(--disabled-bg-color);\n",
              "    fill: var(--disabled-fill-color);\n",
              "    box-shadow: none;\n",
              "  }\n",
              "\n",
              "  .colab-df-spinner {\n",
              "    border: 2px solid var(--fill-color);\n",
              "    border-color: transparent;\n",
              "    border-bottom-color: var(--fill-color);\n",
              "    animation:\n",
              "      spin 1s steps(1) infinite;\n",
              "  }\n",
              "\n",
              "  @keyframes spin {\n",
              "    0% {\n",
              "      border-color: transparent;\n",
              "      border-bottom-color: var(--fill-color);\n",
              "      border-left-color: var(--fill-color);\n",
              "    }\n",
              "    20% {\n",
              "      border-color: transparent;\n",
              "      border-left-color: var(--fill-color);\n",
              "      border-top-color: var(--fill-color);\n",
              "    }\n",
              "    30% {\n",
              "      border-color: transparent;\n",
              "      border-left-color: var(--fill-color);\n",
              "      border-top-color: var(--fill-color);\n",
              "      border-right-color: var(--fill-color);\n",
              "    }\n",
              "    40% {\n",
              "      border-color: transparent;\n",
              "      border-right-color: var(--fill-color);\n",
              "      border-top-color: var(--fill-color);\n",
              "    }\n",
              "    60% {\n",
              "      border-color: transparent;\n",
              "      border-right-color: var(--fill-color);\n",
              "    }\n",
              "    80% {\n",
              "      border-color: transparent;\n",
              "      border-right-color: var(--fill-color);\n",
              "      border-bottom-color: var(--fill-color);\n",
              "    }\n",
              "    90% {\n",
              "      border-color: transparent;\n",
              "      border-bottom-color: var(--fill-color);\n",
              "    }\n",
              "  }\n",
              "</style>\n",
              "\n",
              "  <script>\n",
              "    async function quickchart(key) {\n",
              "      const quickchartButtonEl =\n",
              "        document.querySelector('#' + key + ' button');\n",
              "      quickchartButtonEl.disabled = true;  // To prevent multiple clicks.\n",
              "      quickchartButtonEl.classList.add('colab-df-spinner');\n",
              "      try {\n",
              "        const charts = await google.colab.kernel.invokeFunction(\n",
              "            'suggestCharts', [key], {});\n",
              "      } catch (error) {\n",
              "        console.error('Error during call to suggestCharts:', error);\n",
              "      }\n",
              "      quickchartButtonEl.classList.remove('colab-df-spinner');\n",
              "      quickchartButtonEl.classList.add('colab-df-quickchart-complete');\n",
              "    }\n",
              "    (() => {\n",
              "      let quickchartButtonEl =\n",
              "        document.querySelector('#df-8f019c4c-c084-426b-bc5d-efde12b30c65 button');\n",
              "      quickchartButtonEl.style.display =\n",
              "        google.colab.kernel.accessAllowed ? 'block' : 'none';\n",
              "    })();\n",
              "  </script>\n",
              "</div>\n",
              "\n",
              "    </div>\n",
              "  </div>\n"
            ],
            "application/vnd.google.colaboratory.intrinsic+json": {
              "type": "dataframe",
              "variable_name": "df",
              "summary": "{\n  \"name\": \"df\",\n  \"rows\": 494,\n  \"fields\": [\n    {\n      \"column\": \"Exchange\",\n      \"properties\": {\n        \"dtype\": \"category\",\n        \"num_unique_values\": 4,\n        \"samples\": [\n          \"NYQ\",\n          \"BTS\",\n          \"NMS\"\n        ],\n        \"semantic_type\": \"\",\n        \"description\": \"\"\n      }\n    },\n    {\n      \"column\": \"Symbol\",\n      \"properties\": {\n        \"dtype\": \"string\",\n        \"num_unique_values\": 494,\n        \"samples\": [\n          \"SBNY\",\n          \"GILD\",\n          \"MOH\"\n        ],\n        \"semantic_type\": \"\",\n        \"description\": \"\"\n      }\n    },\n    {\n      \"column\": \"Shortname\",\n      \"properties\": {\n        \"dtype\": \"string\",\n        \"num_unique_values\": 491,\n        \"samples\": [\n          \"Signature Bank\",\n          \"Prologis, Inc.\",\n          \"NRG Energy, Inc.\"\n        ],\n        \"semantic_type\": \"\",\n        \"description\": \"\"\n      }\n    },\n    {\n      \"column\": \"Longname\",\n      \"properties\": {\n        \"dtype\": \"string\",\n        \"num_unique_values\": 491,\n        \"samples\": [\n          \"Signature Bank\",\n          \"Prologis, Inc.\",\n          \"NRG Energy, Inc.\"\n        ],\n        \"semantic_type\": \"\",\n        \"description\": \"\"\n      }\n    },\n    {\n      \"column\": \"Sector\",\n      \"properties\": {\n        \"dtype\": \"category\",\n        \"num_unique_values\": 11,\n        \"samples\": [\n          \"Energy\",\n          \"Technology\",\n          \"Industrials\"\n        ],\n        \"semantic_type\": \"\",\n        \"description\": \"\"\n      }\n    },\n    {\n      \"column\": \"Industry\",\n      \"properties\": {\n        \"dtype\": \"category\",\n        \"num_unique_values\": 113,\n        \"samples\": [\n          \"Pharmaceutical Retailers\",\n          \"Insurance\\u2014Diversified\",\n          \"Apparel Retail\"\n        ],\n        \"semantic_type\": \"\",\n        \"description\": \"\"\n      }\n    },\n    {\n      \"column\": \"Currentprice\",\n      \"properties\": {\n        \"dtype\": \"number\",\n        \"std\": 270.29801989642783,\n        \"min\": 7.34,\n        \"max\": 4275.36,\n        \"num_unique_values\": 491,\n        \"samples\": [\n          158.7,\n          420.4,\n          214.47\n        ],\n        \"semantic_type\": \"\",\n        \"description\": \"\"\n      }\n    },\n    {\n      \"column\": \"Marketcap\",\n      \"properties\": {\n        \"dtype\": \"number\",\n        \"std\": 177233345389,\n        \"min\": 4562007552,\n        \"max\": 2502866501632,\n        \"num_unique_values\": 494,\n        \"samples\": [\n          9622362112,\n          99434700800,\n          20702799872\n        ],\n        \"semantic_type\": \"\",\n        \"description\": \"\"\n      }\n    },\n    {\n      \"column\": \"Ebitda\",\n      \"properties\": {\n        \"dtype\": \"number\",\n        \"std\": 12107381095.839495,\n        \"min\": -2680999936.0,\n        \"max\": 130541002752.0,\n        \"num_unique_values\": 458,\n        \"samples\": [\n          994014016.0,\n          11246999552.0,\n          2148800000.0\n        ],\n        \"semantic_type\": \"\",\n        \"description\": \"\"\n      }\n    },\n    {\n      \"column\": \"Revenuegrowth\",\n      \"properties\": {\n        \"dtype\": \"number\",\n        \"std\": 7.771664202339125,\n        \"min\": -0.643,\n        \"max\": 167.368,\n        \"num_unique_values\": 324,\n        \"samples\": [\n          -0.114,\n          0.012,\n          0.167\n        ],\n        \"semantic_type\": \"\",\n        \"description\": \"\"\n      }\n    },\n    {\n      \"column\": \"City\",\n      \"properties\": {\n        \"dtype\": \"category\",\n        \"num_unique_values\": 231,\n        \"samples\": [\n          \"King of Prussia\",\n          \"Pittsburgh\",\n          \"New York\"\n        ],\n        \"semantic_type\": \"\",\n        \"description\": \"\"\n      }\n    },\n    {\n      \"column\": \"State\",\n      \"properties\": {\n        \"dtype\": \"category\",\n        \"num_unique_values\": 38,\n        \"samples\": [\n          \"NV\",\n          \"AL\",\n          \"TX\"\n        ],\n        \"semantic_type\": \"\",\n        \"description\": \"\"\n      }\n    },\n    {\n      \"column\": \"Country\",\n      \"properties\": {\n        \"dtype\": \"category\",\n        \"num_unique_values\": 7,\n        \"samples\": [\n          \"United States\",\n          \"Ireland\",\n          \"Bermuda\"\n        ],\n        \"semantic_type\": \"\",\n        \"description\": \"\"\n      }\n    },\n    {\n      \"column\": \"Fulltimeemployees\",\n      \"properties\": {\n        \"dtype\": \"number\",\n        \"std\": 145585.79749178787,\n        \"min\": 105.0,\n        \"max\": 2300000.0,\n        \"num_unique_values\": 395,\n        \"samples\": [\n          168000.0,\n          1854.0,\n          105000.0\n        ],\n        \"semantic_type\": \"\",\n        \"description\": \"\"\n      }\n    },\n    {\n      \"column\": \"Longbusinesssummary\",\n      \"properties\": {\n        \"dtype\": \"string\",\n        \"num_unique_values\": 491,\n        \"samples\": [\n          \"Signature Bank provides commercial banking products and services. It accepts various deposit products, including checking accounts, money market accounts, escrow deposit accounts, cash concentration accounts, certificates of deposit, and other cash management products. The company provides various lending products comprising commercial and industrial loans, real estate loans, and letters of credit. In addition, it offers asset management and investment products; and retirement products, such as individual retirement accounts and administrative services for retirement vehicles. Further, the company provides wealth management services to its high net worth personal clients; and purchases, sells, and assembles small business administration loans and pools. Additionally, it offers individual and group insurance products, including health, life, disability, and long-term care insurance products for business and private clients. As of December 31, 2021, the company operated 37 private client offices located in the metropolitan New York area, Connecticut, California, and North Carolina. Signature Bank was incorporated in 2000 and is headquartered in New York, New York.\",\n          \"Prologis, Inc. is the global leader in logistics real estate with a focus on high-barrier, high-growth markets. As of December 31, 2020, the company owned or had investments in, on a wholly owned basis or through co-investment ventures, properties and development projects expected to total approximately 984 million square feet (91 million square meters) in 19 countries. Prologis leases modern logistics facilities to a diverse base of approximately 5,500 customers principally across two major categories: business-to-business and retail/online fulfillment.\",\n          \"NRG Energy, Inc., together with its subsidiaries, operates as an integrated power company in the United States. It operates through Texas, East, and West. The company is involved in the producing, selling, and delivering electricity and related products and services to approximately 6 million residential, commercial, industrial, and wholesale customers. It generates electricity using natural gas, coal, oil, solar, nuclear, and battery storage. The company also provides system power, distributed generation, renewable products, backup generation, storage and distributed solar, demand response, and energy efficiency, and advisory services, as well as carbon management and specialty services; and on-site energy solutions. In addition, it trades in electric power, natural gas, and related commodities; environmental products; weather products; and financial products, including forwards, futures, options, and swaps. Further, the company procures fuels; provides transportation services; and directly sells energy, services, and products and services to retail customers under the NRG, Reliant, Direct Energy, Green Mountain Energy, Stream, and XOOM Energy. As of December 31, 2021, it owns and leases power generation portfolio with approximately 18,000 megawatts of capacity at 25 plants. NRG Energy, Inc. was founded in 1989 and is headquartered in Houston, Texas.\"\n        ],\n        \"semantic_type\": \"\",\n        \"description\": \"\"\n      }\n    },\n    {\n      \"column\": \"Weight\",\n      \"properties\": {\n        \"dtype\": \"number\",\n        \"std\": 0.005106733441916772,\n        \"min\": 0.0001314479308446,\n        \"max\": 0.0721166326600582,\n        \"num_unique_values\": 494,\n        \"samples\": [\n          0.0002772550406906,\n          0.0028650732216762,\n          0.0005965225122595\n        ],\n        \"semantic_type\": \"\",\n        \"description\": \"\"\n      }\n    }\n  ]\n}"
            }
          },
          "metadata": {},
          "execution_count": 3
        }
      ]
    },
    {
      "cell_type": "markdown",
      "source": [
        "‎"
      ],
      "metadata": {
        "id": "DhSKdqD6SZ7w"
      }
    },
    {
      "cell_type": "markdown",
      "source": [
        "______________________________________________________________________________________________________________________________________________________________________________________________________________________________________________________________________________________________________________________________________________________________________________________"
      ],
      "metadata": {
        "id": "wDnlaZQuSXtp"
      }
    },
    {
      "cell_type": "markdown",
      "source": [
        "‎"
      ],
      "metadata": {
        "id": "KqutUSZoSWHF"
      }
    },
    {
      "cell_type": "markdown",
      "source": [
        "#Testing the Correlation Between Full Time Employees and the Company's Marketcap  \n",
        "  \n",
        "\n",
        "## Our Hypotheses:\n",
        "### Null Hypothesis $H_o$\n",
        "\"There is no significant correlation between a company's number of full-time employees and its marketcap\"\n",
        "### Alternative Hypothesis $H_A$\n",
        "\"There is a significant, positive correlation between a company's number of full-time employees and its marketcap\""
      ],
      "metadata": {
        "id": "nP3Uc5S6FfDb"
      }
    },
    {
      "cell_type": "markdown",
      "source": [
        "### Removing Outliers\n",
        "First, we remove the outliers. An outlier is a data point that significantly deviates from the rest of a dataset by being unusually high or low compared to other observations\n",
        "### To Identify Outliers,\n",
        "We check whether it meets either of the following conditions:  \n",
        "\n",
        "*   $\\large <= Q1 - (1.5 * IQR)$  \n",
        "*   $\\large >= Q3 + (1.5 * IQR)$\n",
        "\n",
        "Q1 and Q3 are the first and third quartiles respectively. The IQR, or the Interquartile Range is $Q3 - Q1$"
      ],
      "metadata": {
        "id": "gxR-gmSTGVC-"
      }
    },
    {
      "cell_type": "code",
      "source": [
        "#Separating the columns that we need to test on\n",
        "emp = df['Fulltimeemployees']\n",
        "mcap = df['Marketcap']"
      ],
      "metadata": {
        "id": "nSX3S_UuGiJY"
      },
      "execution_count": null,
      "outputs": []
    },
    {
      "cell_type": "code",
      "source": [
        "'''#First, we remove any empty/NaN rows, as these will hamper the results.\n",
        "emp.dropna(inplace = True)\n",
        "Setting inplace = True directly modifies the dataframe.\n",
        "mcap.dropna(inplace = True)'''\n",
        "\n",
        "#Calculating Q1 and Q3 for both columns, along with their IQRs\n",
        "emp_q1 = np.percentile(emp.dropna(), 25)\n",
        "emp_q3 = np.percentile(mcap.dropna(), 75)\n",
        "emp_IQR = emp_q3 - emp_q1\n",
        "\n",
        "mcap_q1 = np.percentile(mcap, 25)\n",
        "mcap_q3 = np.percentile(mcap, 75)\n",
        "mcap_IQR = mcap_q3 - mcap_q1\n",
        "\n",
        "#Now, to remove the outliers\n",
        "emp_clean = emp[(emp >= emp_q1 - 1.5 * emp_IQR) & \\\n",
        "                (emp <= emp_q3 + 1.5 * emp_IQR)].dropna()\n",
        "\n",
        "mcap_clean = mcap[(mcap >= mcap_q1 - 1.5 * mcap_IQR) & \\\n",
        "                  (mcap <= mcap_q3 + 1.5 * mcap_IQR)].dropna()\n",
        "\n",
        "# Now, we concatenate (the columns) of this data. This means that the columns\n",
        "# are joined, making sure that the data is not misalligned.\n",
        "clean_data = pd.concat([emp_clean, mcap_clean], axis = 1, join = 'inner')\n",
        "\n",
        "print(f\"Sucessfully removed {len(df) - len(clean_data)} outliers \\n\")\n",
        "print(clean_data.head(5))"
      ],
      "metadata": {
        "colab": {
          "base_uri": "https://localhost:8080/"
        },
        "id": "k3v2RcM5Gshb",
        "outputId": "214d712c-1392-41de-9c04-6fdb3557a68e"
      },
      "execution_count": null,
      "outputs": [
        {
          "output_type": "stream",
          "name": "stdout",
          "text": [
            "Sucessfully removed 63 outliers \n",
            "\n",
            "    Fulltimeemployees     Marketcap\n",
            "58            30452.0  127707316224\n",
            "59           216000.0  124336455680\n",
            "60           282100.0  124149276672\n",
            "61            13500.0  122268688384\n",
            "62            75550.0  121994469376\n"
          ]
        }
      ]
    },
    {
      "cell_type": "markdown",
      "source": [
        "### Testing Pearson Correlation\n",
        "Now that we have the cleaned data, free of outliers and NaNs, we can perform tests. First, we perform the Pearson Correlation Test.  \n",
        "The Pearson correlation measures both the strength and direction of linear relationships between quantitative variables, requiring that the variables be measured on interval or ratio scales and have a non-curvilinear relationship with a wide range of potential values.   \n",
        "The correlation coefficient ranges from -1.00 to +1.00, where the sign indicates whether the relationship is positive or negative linear. The absolute value of the correlation coefficient indicates the strength of the linear relationship between the variables, while the degree of linearity is measured by how closely the relationship follows a straight line."
      ],
      "metadata": {
        "id": "DP2E0Cn0HKJj"
      }
    },
    {
      "cell_type": "code",
      "source": [
        "# Performing the P-test\n",
        "c_coeff, p_value = pearsonr(clean_data['Fulltimeemployees'], clean_data['Marketcap'])\n",
        "print(f\"The Correlation Coefficient is {c_coeff:.4f}. Thus, we see that there is a strong correlation\")\n",
        "print(f\"The p-value is {p_value:.4e}\")\n"
      ],
      "metadata": {
        "colab": {
          "base_uri": "https://localhost:8080/"
        },
        "id": "hS4BpaYIHRzW",
        "outputId": "2f4db047-f6c5-4a2b-8d17-9142ff366fce"
      },
      "execution_count": null,
      "outputs": [
        {
          "output_type": "stream",
          "name": "stdout",
          "text": [
            "The Correlation Coefficient is 0.3264. Thus, we see that there is a strong correlation\n",
            "The p-value is 3.7102e-12\n"
          ]
        }
      ]
    },
    {
      "cell_type": "markdown",
      "source": [
        "Since the correlation coefficient is 0.3264, i.e. Positive, we see that there is a strong correlation between the marketcap and full time employees."
      ],
      "metadata": {
        "id": "bp0tSwugHYTq"
      }
    },
    {
      "cell_type": "markdown",
      "source": [
        "### Testing the Hypothesis\n"
      ],
      "metadata": {
        "id": "uZDPvyxpIUoT"
      }
    },
    {
      "cell_type": "code",
      "source": [
        "# Testing the Hypothesis\n",
        "if p_value < 0.05:\n",
        "  print(\"Null hypothesis is rejected: There is a significant correlation\")\n",
        "else:\n",
        "  print(\"Fail to reject null hypothesis: There is no significant correlation\")"
      ],
      "metadata": {
        "colab": {
          "base_uri": "https://localhost:8080/"
        },
        "id": "qCbOPNb0IvJZ",
        "outputId": "e47949c0-e1ca-40ce-afcf-f75fc2230a1b"
      },
      "execution_count": null,
      "outputs": [
        {
          "output_type": "stream",
          "name": "stdout",
          "text": [
            "Null hypothesis is rejected: There is a significant correlation\n"
          ]
        }
      ]
    },
    {
      "cell_type": "markdown",
      "source": [
        "We see that since the p-value is less than 0.05, there is a significant correlation. Thus, we can reject the null hypothesis."
      ],
      "metadata": {
        "id": "Lyjr3WRTIwWh"
      }
    },
    {
      "cell_type": "markdown",
      "source": [
        "### Visualizing the data\n",
        "We now use Seaborn and PyPlot to visualize the data"
      ],
      "metadata": {
        "id": "mVjgznLsI6rv"
      }
    },
    {
      "cell_type": "code",
      "source": [
        "# Visualizing the data\n",
        "plt.figure(figsize=(12, 8))\n",
        "sns.regplot(data = clean_data, x = 'Fulltimeemployees', y = 'Marketcap', ci = 90, scatter_kws={'alpha': 0.5})\n",
        "#ci = 90 sets the confidence interval to 90%. We do this because because the dataset is quite small, less than 500 companies.\n",
        "#scatterkws function makes the scatter points translucent to indicate overlapping points better"
      ],
      "metadata": {
        "colab": {
          "base_uri": "https://localhost:8080/",
          "height": 728
        },
        "id": "pwcBDwLWI79V",
        "outputId": "b2542b0e-8feb-4ca2-a5dd-e8ad2f587161"
      },
      "execution_count": null,
      "outputs": [
        {
          "output_type": "execute_result",
          "data": {
            "text/plain": [
              "<Axes: xlabel='Fulltimeemployees', ylabel='Marketcap'>"
            ]
          },
          "metadata": {},
          "execution_count": 10
        },
        {
          "output_type": "display_data",
          "data": {
            "text/plain": [
              "<Figure size 1200x800 with 1 Axes>"
            ],
            "image/png": "[encoded data removed]"
          },
          "metadata": {}
        }
      ]
    },
    {
      "cell_type": "markdown",
      "source": [
        "###**Conclusion**  \n",
        "We accept the alternative hypothesis that suggests that a there exists a correlation between the marketcap and number of full time employees.   \n",
        "While a larger dataset must be used to make more accurate observations, we see that a higher number of full time employees generally means a larger marketcap.\n",
        "\n"
      ],
      "metadata": {
        "id": "ttlv_WjeJCtz"
      }
    },
    {
      "cell_type": "markdown",
      "source": [
        "‎"
      ],
      "metadata": {
        "id": "fUe9z8MJSUV5"
      }
    },
    {
      "cell_type": "markdown",
      "source": [
        "________________________________________________________________________________________________________________________________________________________________________________________________________________________________________________________________________________________________________________________________________________________________________________________________________________________"
      ],
      "metadata": {
        "id": "Ip_cqvdkJmHY"
      }
    },
    {
      "cell_type": "markdown",
      "source": [
        "‎"
      ],
      "metadata": {
        "id": "EVdWsPf2SUyG"
      }
    },
    {
      "cell_type": "markdown",
      "source": [
        "# Using a One Way ANOVA to Find Statistical Signficance Between Market Sectors\n",
        "\n",
        "## Null Hypothesis\n",
        "\"There is no statistical significance between the various sectors of the dataframe\"\n",
        "\n",
        "## Alternate Hypothesis\n",
        "\"There is a statistical significance between the various sectors of the dataframe\""
      ],
      "metadata": {
        "id": "MS6sgfjLJmd5"
      }
    },
    {
      "cell_type": "markdown",
      "source": [
        "### Making a New DF with Sectors as Columns and Currentprice as Rows\n",
        "We do this to make iterating through the dataframe easier, and so that we only have to deal with the data that is useful for performing this test."
      ],
      "metadata": {
        "id": "e1NxWUR0JxQI"
      }
    },
    {
      "cell_type": "code",
      "source": [
        "sector_df = pd.DataFrame()\n",
        "\n",
        "sectors = df['Sector'].unique()\n",
        "\n",
        "# Loop through unique sectors and add each as a column\n",
        "for i in sectors:\n",
        "    sector_df[i] = df[df['Sector'] == i]['Currentprice'].reset_index(drop=True)\n",
        "\n",
        "sector_df.head() # Display the first few rows"
      ],
      "metadata": {
        "colab": {
          "base_uri": "https://localhost:8080/",
          "height": 224
        },
        "id": "W54JmDkMJ6bp",
        "outputId": "dadd122e-90c4-46f8-a038-cdb834d85281"
      },
      "execution_count": null,
      "outputs": [
        {
          "output_type": "execute_result",
          "data": {
            "text/plain": [
              "   Technology  Communication Services  Consumer Cyclical  Financial Services  \\\n",
              "0      155.74                   96.58             103.41              299.63   \n",
              "1      235.87                   96.29             298.65              126.08   \n",
              "2      138.34                  105.95             228.52              329.47   \n",
              "3       77.36                  151.00             274.52               36.18   \n",
              "4       45.64                   37.67              93.83               46.35   \n",
              "\n",
              "   Healthcare  Energy  Consumer Defensive  Utilities  Basic Materials  \\\n",
              "0      551.24  110.70              142.51      79.03           301.80   \n",
              "1      174.87  179.98              135.22      94.00           226.23   \n",
              "2      359.90  127.17               60.76      66.34           254.44   \n",
              "3       47.43  133.69              182.23      69.41            66.02   \n",
              "4      147.61   50.45              510.87     152.39            32.20   \n",
              "\n",
              "   Industrials  Real Estate  \n",
              "0       167.17       204.71  \n",
              "1        95.08       112.98  \n",
              "2       204.93       132.50  \n",
              "3       484.87       311.54  \n",
              "4       198.65       568.05  "
            ],
            "text/html": [
              "\n",
              "  <div id=\"df-2f2a8ea1-aa4a-425f-8f85-8e776cb0d88c\" class=\"colab-df-container\">\n",
              "    <div>\n",
              "<style scoped>\n",
              "    .dataframe tbody tr th:only-of-type {\n",
              "        vertical-align: middle;\n",
              "    }\n",
              "\n",
              "    .dataframe tbody tr th {\n",
              "        vertical-align: top;\n",
              "    }\n",
              "\n",
              "    .dataframe thead th {\n",
              "        text-align: right;\n",
              "    }\n",
              "</style>\n",
              "<table border=\"1\" class=\"dataframe\">\n",
              "  <thead>\n",
              "    <tr style=\"text-align: right;\">\n",
              "      <th></th>\n",
              "      <th>Technology</th>\n",
              "      <th>Communication Services</th>\n",
              "      <th>Consumer Cyclical</th>\n",
              "      <th>Financial Services</th>\n",
              "      <th>Healthcare</th>\n",
              "      <th>Energy</th>\n",
              "      <th>Consumer Defensive</th>\n",
              "      <th>Utilities</th>\n",
              "      <th>Basic Materials</th>\n",
              "      <th>Industrials</th>\n",
              "      <th>Real Estate</th>\n",
              "    </tr>\n",
              "  </thead>\n",
              "  <tbody>\n",
              "    <tr>\n",
              "      <th>0</th>\n",
              "      <td>155.74</td>\n",
              "      <td>96.58</td>\n",
              "      <td>103.41</td>\n",
              "      <td>299.63</td>\n",
              "      <td>551.24</td>\n",
              "      <td>110.70</td>\n",
              "      <td>142.51</td>\n",
              "      <td>79.03</td>\n",
              "      <td>301.80</td>\n",
              "      <td>167.17</td>\n",
              "      <td>204.71</td>\n",
              "    </tr>\n",
              "    <tr>\n",
              "      <th>1</th>\n",
              "      <td>235.87</td>\n",
              "      <td>96.29</td>\n",
              "      <td>298.65</td>\n",
              "      <td>126.08</td>\n",
              "      <td>174.87</td>\n",
              "      <td>179.98</td>\n",
              "      <td>135.22</td>\n",
              "      <td>94.00</td>\n",
              "      <td>226.23</td>\n",
              "      <td>95.08</td>\n",
              "      <td>112.98</td>\n",
              "    </tr>\n",
              "    <tr>\n",
              "      <th>2</th>\n",
              "      <td>138.34</td>\n",
              "      <td>105.95</td>\n",
              "      <td>228.52</td>\n",
              "      <td>329.47</td>\n",
              "      <td>359.90</td>\n",
              "      <td>127.17</td>\n",
              "      <td>60.76</td>\n",
              "      <td>66.34</td>\n",
              "      <td>254.44</td>\n",
              "      <td>204.93</td>\n",
              "      <td>132.50</td>\n",
              "    </tr>\n",
              "    <tr>\n",
              "      <th>3</th>\n",
              "      <td>77.36</td>\n",
              "      <td>151.00</td>\n",
              "      <td>274.52</td>\n",
              "      <td>36.18</td>\n",
              "      <td>47.43</td>\n",
              "      <td>133.69</td>\n",
              "      <td>182.23</td>\n",
              "      <td>69.41</td>\n",
              "      <td>66.02</td>\n",
              "      <td>484.87</td>\n",
              "      <td>311.54</td>\n",
              "    </tr>\n",
              "    <tr>\n",
              "      <th>4</th>\n",
              "      <td>45.64</td>\n",
              "      <td>37.67</td>\n",
              "      <td>93.83</td>\n",
              "      <td>46.35</td>\n",
              "      <td>147.61</td>\n",
              "      <td>50.45</td>\n",
              "      <td>510.87</td>\n",
              "      <td>152.39</td>\n",
              "      <td>32.20</td>\n",
              "      <td>198.65</td>\n",
              "      <td>568.05</td>\n",
              "    </tr>\n",
              "  </tbody>\n",
              "</table>\n",
              "</div>\n",
              "    <div class=\"colab-df-buttons\">\n",
              "\n",
              "  <div class=\"colab-df-container\">\n",
              "    <button class=\"colab-df-convert\" onclick=\"convertToInteractive('df-2f2a8ea1-aa4a-425f-8f85-8e776cb0d88c')\"\n",
              "            title=\"Convert this dataframe to an interactive table.\"\n",
              "            style=\"display:none;\">\n",
              "\n",
              "  <svg xmlns=\"http://www.w3.org/2000/svg\" height=\"24px\" viewBox=\"0 -960 960 960\">\n",
              "    <path d=\"M120-120v-720h720v720H120Zm60-500h600v-160H180v160Zm220 220h160v-160H400v160Zm0 220h160v-160H400v160ZM180-400h160v-160H180v160Zm440 0h160v-160H620v160ZM180-180h160v-160H180v160Zm440 0h160v-160H620v160Z\"/>\n",
              "  </svg>\n",
              "    </button>\n",
              "\n",
              "  <style>\n",
              "    .colab-df-container {\n",
              "      display:flex;\n",
              "      gap: 12px;\n",
              "    }\n",
              "\n",
              "    .colab-df-convert {\n",
              "      background-color: #E8F0FE;\n",
              "      border: none;\n",
              "      border-radius: 50%;\n",
              "      cursor: pointer;\n",
              "      display: none;\n",
              "      fill: #1967D2;\n",
              "      height: 32px;\n",
              "      padding: 0 0 0 0;\n",
              "      width: 32px;\n",
              "    }\n",
              "\n",
              "    .colab-df-convert:hover {\n",
              "      background-color: #E2EBFA;\n",
              "      box-shadow: 0px 1px 2px rgba(60, 64, 67, 0.3), 0px 1px 3px 1px rgba(60, 64, 67, 0.15);\n",
              "      fill: #174EA6;\n",
              "    }\n",
              "\n",
              "    .colab-df-buttons div {\n",
              "      margin-bottom: 4px;\n",
              "    }\n",
              "\n",
              "    [theme=dark] .colab-df-convert {\n",
              "      background-color: #3B4455;\n",
              "      fill: #D2E3FC;\n",
              "    }\n",
              "\n",
              "    [theme=dark] .colab-df-convert:hover {\n",
              "      background-color: #434B5C;\n",
              "      box-shadow: 0px 1px 3px 1px rgba(0, 0, 0, 0.15);\n",
              "      filter: drop-shadow(0px 1px 2px rgba(0, 0, 0, 0.3));\n",
              "      fill: #FFFFFF;\n",
              "    }\n",
              "  </style>\n",
              "\n",
              "    <script>\n",
              "      const buttonEl =\n",
              "        document.querySelector('#df-2f2a8ea1-aa4a-425f-8f85-8e776cb0d88c button.colab-df-convert');\n",
              "      buttonEl.style.display =\n",
              "        google.colab.kernel.accessAllowed ? 'block' : 'none';\n",
              "\n",
              "      async function convertToInteractive(key) {\n",
              "        const element = document.querySelector('#df-2f2a8ea1-aa4a-425f-8f85-8e776cb0d88c');\n",
              "        const dataTable =\n",
              "          await google.colab.kernel.invokeFunction('convertToInteractive',\n",
              "                                                    [key], {});\n",
              "        if (!dataTable) return;\n",
              "\n",
              "        const docLinkHtml = 'Like what you see? Visit the ' +\n",
              "          '<a target=\"_blank\" href=https://colab.research.google.com/notebooks/data_table.ipynb>data table notebook</a>'\n",
              "          + ' to learn more about interactive tables.';\n",
              "        element.innerHTML = '';\n",
              "        dataTable['output_type'] = 'display_data';\n",
              "        await google.colab.output.renderOutput(dataTable, element);\n",
              "        const docLink = document.createElement('div');\n",
              "        docLink.innerHTML = docLinkHtml;\n",
              "        element.appendChild(docLink);\n",
              "      }\n",
              "    </script>\n",
              "  </div>\n",
              "\n",
              "\n",
              "<div id=\"df-81ad3900-64d7-4a8d-a6b8-f0a78c2656a0\">\n",
              "  <button class=\"colab-df-quickchart\" onclick=\"quickchart('df-81ad3900-64d7-4a8d-a6b8-f0a78c2656a0')\"\n",
              "            title=\"Suggest charts\"\n",
              "            style=\"display:none;\">\n",
              "\n",
              "<svg xmlns=\"http://www.w3.org/2000/svg\" height=\"24px\"viewBox=\"0 0 24 24\"\n",
              "     width=\"24px\">\n",
              "    <g>\n",
              "        <path d=\"M19 3H5c-1.1 0-2 .9-2 2v14c0 1.1.9 2 2 2h14c1.1 0 2-.9 2-2V5c0-1.1-.9-2-2-2zM9 17H7v-7h2v7zm4 0h-2V7h2v10zm4 0h-2v-4h2v4z\"/>\n",
              "    </g>\n",
              "</svg>\n",
              "  </button>\n",
              "\n",
              "<style>\n",
              "  .colab-df-quickchart {\n",
              "      --bg-color: #E8F0FE;\n",
              "      --fill-color: #1967D2;\n",
              "      --hover-bg-color: #E2EBFA;\n",
              "      --hover-fill-color: #174EA6;\n",
              "      --disabled-fill-color: #AAA;\n",
              "      --disabled-bg-color: #DDD;\n",
              "  }\n",
              "\n",
              "  [theme=dark] .colab-df-quickchart {\n",
              "      --bg-color: #3B4455;\n",
              "      --fill-color: #D2E3FC;\n",
              "      --hover-bg-color: #434B5C;\n",
              "      --hover-fill-color: #FFFFFF;\n",
              "      --disabled-bg-color: #3B4455;\n",
              "      --disabled-fill-color: #666;\n",
              "  }\n",
              "\n",
              "  .colab-df-quickchart {\n",
              "    background-color: var(--bg-color);\n",
              "    border: none;\n",
              "    border-radius: 50%;\n",
              "    cursor: pointer;\n",
              "    display: none;\n",
              "    fill: var(--fill-color);\n",
              "    height: 32px;\n",
              "    padding: 0;\n",
              "    width: 32px;\n",
              "  }\n",
              "\n",
              "  .colab-df-quickchart:hover {\n",
              "    background-color: var(--hover-bg-color);\n",
              "    box-shadow: 0 1px 2px rgba(60, 64, 67, 0.3), 0 1px 3px 1px rgba(60, 64, 67, 0.15);\n",
              "    fill: var(--button-hover-fill-color);\n",
              "  }\n",
              "\n",
              "  .colab-df-quickchart-complete:disabled,\n",
              "  .colab-df-quickchart-complete:disabled:hover {\n",
              "    background-color: var(--disabled-bg-color);\n",
              "    fill: var(--disabled-fill-color);\n",
              "    box-shadow: none;\n",
              "  }\n",
              "\n",
              "  .colab-df-spinner {\n",
              "    border: 2px solid var(--fill-color);\n",
              "    border-color: transparent;\n",
              "    border-bottom-color: var(--fill-color);\n",
              "    animation:\n",
              "      spin 1s steps(1) infinite;\n",
              "  }\n",
              "\n",
              "  @keyframes spin {\n",
              "    0% {\n",
              "      border-color: transparent;\n",
              "      border-bottom-color: var(--fill-color);\n",
              "      border-left-color: var(--fill-color);\n",
              "    }\n",
              "    20% {\n",
              "      border-color: transparent;\n",
              "      border-left-color: var(--fill-color);\n",
              "      border-top-color: var(--fill-color);\n",
              "    }\n",
              "    30% {\n",
              "      border-color: transparent;\n",
              "      border-left-color: var(--fill-color);\n",
              "      border-top-color: var(--fill-color);\n",
              "      border-right-color: var(--fill-color);\n",
              "    }\n",
              "    40% {\n",
              "      border-color: transparent;\n",
              "      border-right-color: var(--fill-color);\n",
              "      border-top-color: var(--fill-color);\n",
              "    }\n",
              "    60% {\n",
              "      border-color: transparent;\n",
              "      border-right-color: var(--fill-color);\n",
              "    }\n",
              "    80% {\n",
              "      border-color: transparent;\n",
              "      border-right-color: var(--fill-color);\n",
              "      border-bottom-color: var(--fill-color);\n",
              "    }\n",
              "    90% {\n",
              "      border-color: transparent;\n",
              "      border-bottom-color: var(--fill-color);\n",
              "    }\n",
              "  }\n",
              "</style>\n",
              "\n",
              "  <script>\n",
              "    async function quickchart(key) {\n",
              "      const quickchartButtonEl =\n",
              "        document.querySelector('#' + key + ' button');\n",
              "      quickchartButtonEl.disabled = true;  // To prevent multiple clicks.\n",
              "      quickchartButtonEl.classList.add('colab-df-spinner');\n",
              "      try {\n",
              "        const charts = await google.colab.kernel.invokeFunction(\n",
              "            'suggestCharts', [key], {});\n",
              "      } catch (error) {\n",
              "        console.error('Error during call to suggestCharts:', error);\n",
              "      }\n",
              "      quickchartButtonEl.classList.remove('colab-df-spinner');\n",
              "      quickchartButtonEl.classList.add('colab-df-quickchart-complete');\n",
              "    }\n",
              "    (() => {\n",
              "      let quickchartButtonEl =\n",
              "        document.querySelector('#df-81ad3900-64d7-4a8d-a6b8-f0a78c2656a0 button');\n",
              "      quickchartButtonEl.style.display =\n",
              "        google.colab.kernel.accessAllowed ? 'block' : 'none';\n",
              "    })();\n",
              "  </script>\n",
              "</div>\n",
              "\n",
              "    </div>\n",
              "  </div>\n"
            ],
            "application/vnd.google.colaboratory.intrinsic+json": {
              "type": "dataframe",
              "variable_name": "sector_df",
              "summary": "{\n  \"name\": \"sector_df\",\n  \"rows\": 71,\n  \"fields\": [\n    {\n      \"column\": \"Technology\",\n      \"properties\": {\n        \"dtype\": \"number\",\n        \"std\": 118.87128372913484,\n        \"min\": 14.39,\n        \"max\": 472.9,\n        \"num_unique_values\": 71,\n        \"samples\": [\n          321.5,\n          155.74,\n          346.8\n        ],\n        \"semantic_type\": \"\",\n        \"description\": \"\"\n      }\n    },\n    {\n      \"column\": \"Communication Services\",\n      \"properties\": {\n        \"dtype\": \"number\",\n        \"std\": 91.07752242408162,\n        \"min\": 7.34,\n        \"max\": 368.24,\n        \"num_unique_values\": 22,\n        \"samples\": [\n          96.58,\n          28.84,\n          368.24\n        ],\n        \"semantic_type\": \"\",\n        \"description\": \"\"\n      }\n    },\n    {\n      \"column\": \"Consumer Cyclical\",\n      \"properties\": {\n        \"dtype\": \"number\",\n        \"std\": 700.4872756096573,\n        \"min\": 8.94,\n        \"max\": 4275.36,\n        \"num_unique_values\": 57,\n        \"samples\": [\n          103.41,\n          198.73,\n          55.44\n        ],\n        \"semantic_type\": \"\",\n        \"description\": \"\"\n      }\n    },\n    {\n      \"column\": \"Financial Services\",\n      \"properties\": {\n        \"dtype\": \"number\",\n        \"std\": 122.99873386643199,\n        \"min\": 15.11,\n        \"max\": 663.75,\n        \"num_unique_values\": 67,\n        \"samples\": [\n          108.64,\n          162.87,\n          46.35\n        ],\n        \"semantic_type\": \"\",\n        \"description\": \"\"\n      }\n    },\n    {\n      \"column\": \"Healthcare\",\n      \"properties\": {\n        \"dtype\": \"number\",\n        \"std\": 195.8817737561516,\n        \"min\": 10.07,\n        \"max\": 1264.55,\n        \"num_unique_values\": 64,\n        \"samples\": [\n          66.18,\n          214.13,\n          551.24\n        ],\n        \"semantic_type\": \"\",\n        \"description\": \"\"\n      }\n    },\n    {\n      \"column\": \"Energy\",\n      \"properties\": {\n        \"dtype\": \"number\",\n        \"std\": 59.95876180009716,\n        \"min\": 17.77,\n        \"max\": 257.31,\n        \"num_unique_values\": 23,\n        \"samples\": [\n          153.82,\n          76.01,\n          110.7\n        ],\n        \"semantic_type\": \"\",\n        \"description\": \"\"\n      }\n    },\n    {\n      \"column\": \"Consumer Defensive\",\n      \"properties\": {\n        \"dtype\": \"number\",\n        \"std\": 92.86725713884341,\n        \"min\": 15.05,\n        \"max\": 510.87,\n        \"num_unique_values\": 36,\n        \"samples\": [\n          15.05,\n          94.88,\n          68.64\n        ],\n        \"semantic_type\": \"\",\n        \"description\": \"\"\n      }\n    },\n    {\n      \"column\": \"Utilities\",\n      \"properties\": {\n        \"dtype\": \"number\",\n        \"std\": 34.42125833148975,\n        \"min\": 15.25,\n        \"max\": 152.39,\n        \"num_unique_values\": 29,\n        \"samples\": [\n          25.89,\n          38.08,\n          145.94\n        ],\n        \"semantic_type\": \"\",\n        \"description\": \"\"\n      }\n    },\n    {\n      \"column\": \"Basic Materials\",\n      \"properties\": {\n        \"dtype\": \"number\",\n        \"std\": 92.10146974423165,\n        \"min\": 32.2,\n        \"max\": 338.16,\n        \"num_unique_values\": 21,\n        \"samples\": [\n          301.8,\n          53.14,\n          338.16\n        ],\n        \"semantic_type\": \"\",\n        \"description\": \"\"\n      }\n    },\n    {\n      \"column\": \"Industrials\",\n      \"properties\": {\n        \"dtype\": \"number\",\n        \"std\": 131.56344519779756,\n        \"min\": 14.0,\n        \"max\": 581.55,\n        \"num_unique_values\": 71,\n        \"samples\": [\n          119.79,\n          167.17,\n          93.56\n        ],\n        \"semantic_type\": \"\",\n        \"description\": \"\"\n      }\n    },\n    {\n      \"column\": \"Real Estate\",\n      \"properties\": {\n        \"dtype\": \"number\",\n        \"std\": 111.57203272636717,\n        \"min\": 18.65,\n        \"max\": 568.05,\n        \"num_unique_values\": 32,\n        \"samples\": [\n          59.88,\n          31.1,\n          21.11\n        ],\n        \"semantic_type\": \"\",\n        \"description\": \"\"\n      }\n    }\n  ]\n}"
            }
          },
          "metadata": {},
          "execution_count": 11
        }
      ]
    },
    {
      "cell_type": "markdown",
      "source": [
        "### Grand Mean\n",
        "While the next step to calculate a one-way ANOVA is to calculate the Grand Mean, we first create 2 loops to find the mean of each group. Since it is not feasible to create 11 variables for each mean and another 11 for the sample size, we use a loop. This makes the program much more efficient.   \n",
        "By using the loop, we create lists of the means and sample sizes of each group. These do not include NaN values. We call the sum of these the grand_sum and grand_num\n",
        "\n"
      ],
      "metadata": {
        "id": "ZW1ylbG2KBBS"
      }
    },
    {
      "cell_type": "code",
      "source": [
        "grand_sum = 0\n",
        "nk = []\n",
        "\n",
        "for y in sectors:\n",
        "  grand_sum += sector_df[y].sum()\n",
        "\n",
        "for z in sectors:\n",
        "  nk.append(sector_df[z].count())\n",
        "\n",
        "grand_num = sum(nk)\n",
        "print(\"List of Sample Sizes\", nk)\n",
        "print(\"Grand Sum\", round(grand_sum,2))\n",
        "print(\"Total Number of Elements/Grand Num:\", grand_num)\n",
        "\n",
        "grand_mean = grand_sum/grand_num\n",
        "\n",
        "print(\"Grand Mean:\",round(grand_mean,2))"
      ],
      "metadata": {
        "colab": {
          "base_uri": "https://localhost:8080/"
        },
        "id": "lO-sA6dOLKM7",
        "outputId": "82fe453f-bab9-4551-9138-1fe28e938400"
      },
      "execution_count": null,
      "outputs": [
        {
          "output_type": "stream",
          "name": "stdout",
          "text": [
            "List of Sample Sizes [71, 22, 57, 67, 64, 23, 36, 29, 21, 71, 32]\n",
            "Grand Sum 80070.61\n",
            "Total Number of Elements/Grand Num: 493\n",
            "Grand Mean: 162.42\n"
          ]
        }
      ]
    },
    {
      "cell_type": "markdown",
      "source": [
        "xk is the list containing the means.  \n",
        "nk is the list containing the sample sizes."
      ],
      "metadata": {
        "id": "Nc2NirwvLP2U"
      }
    },
    {
      "cell_type": "code",
      "source": [
        "xk = []\n",
        "\n",
        "for x in sectors:\n",
        "  xk.append(sector_df[x].mean())\n",
        "\n",
        "print(\"Mean List:\", [round(num, 2) for num in xk]) #Displaying rounded means but keeping the original means in the backend"
      ],
      "metadata": {
        "colab": {
          "base_uri": "https://localhost:8080/"
        },
        "id": "G7Mh1PlpLOnd",
        "outputId": "855dfcdc-e2df-4cf7-d210-ff4f71ac134b"
      },
      "execution_count": null,
      "outputs": [
        {
          "output_type": "stream",
          "name": "stdout",
          "text": [
            "Mean List: [163.6, 84.84, 285.93, 140.0, 215.48, 88.26, 115.23, 70.07, 135.35, 174.34, 115.25]\n"
          ]
        }
      ]
    },
    {
      "cell_type": "markdown",
      "source": [
        "## Finding the Squared Deviations and Sum of Squares\n",
        "We write a function to make the calculations easier"
      ],
      "metadata": {
        "id": "BuGwyYFDLbn9"
      }
    },
    {
      "cell_type": "code",
      "source": [
        "def squared_dev(values_list, mean):\n",
        "  sq_dev = []\n",
        "  for xi in values_list:\n",
        "    sq_dev.append((xi - mean)**2)\n",
        "\n",
        "  return sq_dev"
      ],
      "metadata": {
        "id": "Dp2vbp7PLgp_"
      },
      "execution_count": null,
      "outputs": []
    },
    {
      "cell_type": "markdown",
      "source": [
        "###Finding SS_Between\n",
        "SS_Between, also known as Sum of Squares Between or Between Group Variation, represents the variation among sample means. It quantifies the differences between group means and the overall grand mean  \n",
        "Since the sample sizes are different:  \n",
        "$\\large SS_{between}$ = $\\large \\sum{n_k (\\bar{x}_k - \\bar{x}_G})^2$  \n"
      ],
      "metadata": {
        "id": "yjWoJ8veLjZb"
      }
    },
    {
      "cell_type": "code",
      "source": [
        "sq_dev = squared_dev(xk, grand_mean)\n",
        "\n",
        "# we need to multiply sq_dev[0] with nk[0], then sq_dev[1] with nk[1]...etc\n",
        "temp = []\n",
        "for h in range(len(nk)): # h = 0,1,2,3\n",
        "  temp.append(sq_dev[h]*nk[h])\n",
        "\n",
        "ss_between = sum(temp)\n",
        "print(f\"SS_between: {ss_between:.2f}\")"
      ],
      "metadata": {
        "colab": {
          "base_uri": "https://localhost:8080/"
        },
        "id": "EbwA3n4mLh58",
        "outputId": "956cbb9d-2ca2-46a3-8806-e97020adf38b"
      },
      "execution_count": null,
      "outputs": [
        {
          "output_type": "stream",
          "name": "stdout",
          "text": [
            "SS_between: 1766572.91\n"
          ]
        }
      ]
    },
    {
      "cell_type": "markdown",
      "source": [
        "### Finding SS_Within\n",
        "SS_Within, also called Sum of Squares Within or Within Group Variation, represents the variation within individual samples or groups  \n",
        "$\\large SS_{within}$ = $\\Large \\sum(x_i - \\bar{x}_k)^2$  \n"
      ],
      "metadata": {
        "id": "KjAXT62dLoc3"
      }
    },
    {
      "cell_type": "code",
      "source": [
        "ss_within = 0\n",
        "\n",
        "for j in sectors:\n",
        "  ss_within += sum(sector_df[j].dropna())\n",
        "\n",
        "print(f\"SS_Within: {ss_within:.2f}\")"
      ],
      "metadata": {
        "colab": {
          "base_uri": "https://localhost:8080/"
        },
        "id": "HTN6CirbLpDJ",
        "outputId": "be0c01e6-21e3-48fd-b598-9ad91ca49973"
      },
      "execution_count": null,
      "outputs": [
        {
          "output_type": "stream",
          "name": "stdout",
          "text": [
            "SS_Within: 80070.61\n"
          ]
        }
      ]
    },
    {
      "cell_type": "markdown",
      "source": [
        "## Finding Degrees of Freedom\n",
        "$\\large df_{between}$ = $\\large k-1$  \n",
        "df_between, also known as degrees of freedom for the numerator, represents the degrees of freedom associated with the variation between groups.  \n",
        "\n",
        "  \n",
        "$\\large df_{within}$ = $\\large N-k$  \n",
        "df_within, also called degrees of freedom for the denominator or error degrees of freedom, represents the degrees of freedom associated with the variation within groups."
      ],
      "metadata": {
        "id": "nhJ2YARYLqda"
      }
    },
    {
      "cell_type": "code",
      "source": [
        "k = len(sectors)\n",
        "df_between = k - 1\n",
        "\n",
        "# We have already calculated N as the grand_num. This was done to avoid creating many varaibles.\n",
        "df_within = grand_num - k\n",
        "\n",
        "print(f\"df_between: {df_between}\")\n",
        "print(f\"df_within: {df_within}\")"
      ],
      "metadata": {
        "colab": {
          "base_uri": "https://localhost:8080/"
        },
        "id": "FaTmqlPcLsLW",
        "outputId": "83d415d9-16f3-4d3d-d13b-d1a24e2e87b2"
      },
      "execution_count": null,
      "outputs": [
        {
          "output_type": "stream",
          "name": "stdout",
          "text": [
            "df_between: 10\n",
            "df_within: 482\n"
          ]
        }
      ]
    },
    {
      "cell_type": "markdown",
      "source": [
        "## Finding Mean Squares for Within and Between\n",
        "$\\large SS_{between} / df_{between}$ = $\\large MS_{between}$  \n",
        "\n",
        "<br>\n",
        "\n",
        "$\\large SS_{within} / df_{within}$ = $\\large MS_{within}$"
      ],
      "metadata": {
        "id": "YKGHE9UOLtWq"
      }
    },
    {
      "cell_type": "code",
      "source": [
        "ms_between = ss_between / df_between\n",
        "ms_within = ss_within / df_within\n",
        "\n",
        "print(f\"MS_between: {ms_between:.2f}\")\n",
        "print(f\"MS_within: {ms_within:.2f}\")"
      ],
      "metadata": {
        "colab": {
          "base_uri": "https://localhost:8080/"
        },
        "id": "INGGzvOmLvJh",
        "outputId": "86627ea8-604d-409b-d73f-4c22e82d2992"
      },
      "execution_count": null,
      "outputs": [
        {
          "output_type": "stream",
          "name": "stdout",
          "text": [
            "MS_between: 176657.29\n",
            "MS_within: 166.12\n"
          ]
        }
      ]
    },
    {
      "cell_type": "markdown",
      "source": [
        "### Finding the F-Statistic\n",
        "The F-Statistic is a test statistic used to determine if there are significant differences between group means in ANOVA  \n",
        "$F$ = $\\Large\\frac{MS_{between}}{MS_{within}}$"
      ],
      "metadata": {
        "id": "KOQdb62aLxx8"
      }
    },
    {
      "cell_type": "code",
      "source": [
        "F = ms_between / ms_within\n",
        "print(f\"F-statistic: {F:.2f}\")"
      ],
      "metadata": {
        "colab": {
          "base_uri": "https://localhost:8080/"
        },
        "id": "8TSVQ-fNLwR6",
        "outputId": "7c937f73-e910-48a5-8afd-8f33b57feaa0"
      },
      "execution_count": null,
      "outputs": [
        {
          "output_type": "stream",
          "name": "stdout",
          "text": [
            "F-statistic: 1063.42\n"
          ]
        }
      ]
    },
    {
      "cell_type": "markdown",
      "source": [
        "### Finding the F-Critical Value using an F-Table and an $\\alpha$ level of 0.05\n",
        "F critical value is a threshold value used to determine whether the F-Statistic is statistically significant."
      ],
      "metadata": {
        "id": "jjNEeiXxL0-m"
      }
    },
    {
      "cell_type": "code",
      "source": [
        "F_crit = 1.831"
      ],
      "metadata": {
        "id": "tw7LKwDBL3e-"
      },
      "execution_count": null,
      "outputs": []
    },
    {
      "cell_type": "markdown",
      "source": [
        "### Comparing F-statistic with F-critical value to decide whether to reject or retain the null hypothesis"
      ],
      "metadata": {
        "id": "d4xauOReL5j-"
      }
    },
    {
      "cell_type": "code",
      "source": [
        "if F > F_crit:\n",
        "  print('Reject the null')\n",
        "else:\n",
        "  print('Retain the null')"
      ],
      "metadata": {
        "colab": {
          "base_uri": "https://localhost:8080/"
        },
        "id": "fIRJIMyuL4hD",
        "outputId": "9b2a5ee9-89f9-4aba-c665-9a05ec108080"
      },
      "execution_count": null,
      "outputs": [
        {
          "output_type": "stream",
          "name": "stdout",
          "text": [
            "Reject the null\n"
          ]
        }
      ]
    },
    {
      "cell_type": "markdown",
      "source": [
        "#**Conclusion**\n",
        "Since the null hypothesis was rejected, in favor of the alternate one, it means that there is a statistical significance between all the various sectors in the dataframe of S&P 500 companies.  \n",
        "\n",
        "\n",
        "*   F-Critical > F-Statistic\n",
        "*   This means that the null hypothesis is rejected\n",
        "*   Thus, there is a statistical significance between the sectors of the various companies.  \n",
        "*   It may be beneficial to diversify investments amongst sectors to increase returns.\n",
        "\n"
      ],
      "metadata": {
        "id": "D2DWQMipL8cp"
      }
    },
    {
      "cell_type": "markdown",
      "source": [
        "‎"
      ],
      "metadata": {
        "id": "Xo13AUw7SRv0"
      }
    },
    {
      "cell_type": "markdown",
      "source": [
        "________________________________________________________________________________________________________________________________________________________________________________________________________________________________________________________________________________________________________________________________________________________________________________________________________________________"
      ],
      "metadata": {
        "id": "Hl7VjemJNDMP"
      }
    },
    {
      "cell_type": "markdown",
      "source": [
        "‎"
      ],
      "metadata": {
        "id": "tMFA36D7SSnQ"
      }
    },
    {
      "cell_type": "markdown",
      "source": [
        "# Finding the Relation between Company's Revenue Growth and Marketcap Using Regression"
      ],
      "metadata": {
        "id": "5Wd5hkSTND2K"
      }
    },
    {
      "cell_type": "markdown",
      "source": [
        "We want to find out using regression:  \n",
        "Does a higher market value result in a higher revenue growth?  \n",
        "Which one do we invest in? A company with lower market cap or higher market cap?"
      ],
      "metadata": {
        "id": "478Nnx_RNRgZ"
      }
    },
    {
      "cell_type": "markdown",
      "source": [
        "###Cleaning up the Data\n",
        "First, we remove the NaN values as these will interfere with our calculations"
      ],
      "metadata": {
        "id": "YWEojBzWNhWi"
      }
    },
    {
      "cell_type": "code",
      "source": [
        "#Droping missing values from dataframe\n",
        "df = df.dropna(subset=['Marketcap', 'Revenuegrowth'])"
      ],
      "metadata": {
        "id": "Bs0XXi3cN2EY"
      },
      "execution_count": null,
      "outputs": []
    },
    {
      "cell_type": "markdown",
      "source": [
        "### Removing Outliers\n",
        "We then remove outliers to achieve more accuracy with out results.  \n",
        "We check whether it meets either of the following conditions:  \n",
        "\n",
        "*   $\\large <= Q1 - (1.5 * IQR)$  \n",
        "*   $\\large >= Q3 + (1.5 * IQR)$\n",
        "\n",
        "Q1 and Q3 are the first and third quartiles respectively. The IQR, or the Interquartile Range is $Q3 - Q1$"
      ],
      "metadata": {
        "id": "Tv629WscOBLt"
      }
    },
    {
      "cell_type": "code",
      "source": [
        "Revenuegrowth_q1 = df['Revenuegrowth'].quantile(0.25)\n",
        "Revenuegrowth_q2 = df['Revenuegrowth'].median()\n",
        "Revenuegrowth_q3 = df['Revenuegrowth'].quantile(0.75)\n",
        "\n",
        "Revenuegrowth_iqr = Revenuegrowth_q3 - Revenuegrowth_q1\n",
        "\n",
        "marketcap_lb =  Revenuegrowth_q1 - 1.5 * Revenuegrowth_iqr\n",
        "marketcap_ub =  Revenuegrowth_q3 - 1.5 * Revenuegrowth_iqr\n",
        "\n",
        "df1 = df[(df['Revenuegrowth'] >= marketcap_lb) & (df['Revenuegrowth'] <= marketcap_ub)]\n",
        "\n",
        "# To get dataframe without outliers\n",
        "df1.head()"
      ],
      "metadata": {
        "colab": {
          "base_uri": "https://localhost:8080/",
          "height": 400
        },
        "id": "TC_l-kriOHXv",
        "outputId": "fa2f71da-5738-4260-f308-aec5c5544339"
      },
      "execution_count": null,
      "outputs": [
        {
          "output_type": "execute_result",
          "data": {
            "text/plain": [
              "    Exchange Symbol                    Shortname                     Longname  \\\n",
              "10       NYQ    JPM        JP Morgan Chase & Co.         JPMorgan Chase & Co.   \n",
              "46       NYQ     MS               Morgan Stanley               Morgan Stanley   \n",
              "54       NYQ    LMT  Lockheed Martin Corporation  Lockheed Martin Corporation   \n",
              "72       NYQ    BLK              BlackRock, Inc.              BlackRock, Inc.   \n",
              "114      NYQ    USB                 U.S. Bancorp                 U.S. Bancorp   \n",
              "\n",
              "                 Sector             Industry  Currentprice     Marketcap  \\\n",
              "10   Financial Services    Banks—Diversified        126.08  381813096448   \n",
              "46   Financial Services      Capital Markets         82.22  147536396288   \n",
              "54          Industrials  Aerospace & Defense        484.87  133720350720   \n",
              "72   Financial Services     Asset Management        663.75  100072914944   \n",
              "114  Financial Services       Banks—Regional         42.86   63552806912   \n",
              "\n",
              "           Ebitda  Revenuegrowth         City State        Country  \\\n",
              "10            NaN         -0.096     New York    NY  United States   \n",
              "46            NaN         -0.117     New York    NY  United States   \n",
              "54   7.152000e+09         -0.093     Bethesda    MD  United States   \n",
              "72   7.407000e+09         -0.146     New York    NY  United States   \n",
              "114           NaN         -0.073  Minneapolis    MN  United States   \n",
              "\n",
              "     Fulltimeemployees                                Longbusinesssummary  \\\n",
              "10            278494.0  JPMorgan Chase & Co. operates as a financial s...   \n",
              "46             78386.0  Morgan Stanley, a financial holding company, p...   \n",
              "54            114000.0  Lockheed Martin Corporation, a security and ae...   \n",
              "72             18400.0  BlackRock, Inc. is a publicly owned investment...   \n",
              "114            70000.0  U.S. Bancorp, a financial services holding com...   \n",
              "\n",
              "       Weight  \n",
              "10   0.011001  \n",
              "46   0.004251  \n",
              "54   0.003853  \n",
              "72   0.002883  \n",
              "114  0.001831  "
            ],
            "text/html": [
              "\n",
              "  <div id=\"df-8a12f3e4-4e3a-4623-ac4a-e27d1b321dc8\" class=\"colab-df-container\">\n",
              "    <div>\n",
              "<style scoped>\n",
              "    .dataframe tbody tr th:only-of-type {\n",
              "        vertical-align: middle;\n",
              "    }\n",
              "\n",
              "    .dataframe tbody tr th {\n",
              "        vertical-align: top;\n",
              "    }\n",
              "\n",
              "    .dataframe thead th {\n",
              "        text-align: right;\n",
              "    }\n",
              "</style>\n",
              "<table border=\"1\" class=\"dataframe\">\n",
              "  <thead>\n",
              "    <tr style=\"text-align: right;\">\n",
              "      <th></th>\n",
              "      <th>Exchange</th>\n",
              "      <th>Symbol</th>\n",
              "      <th>Shortname</th>\n",
              "      <th>Longname</th>\n",
              "      <th>Sector</th>\n",
              "      <th>Industry</th>\n",
              "      <th>Currentprice</th>\n",
              "      <th>Marketcap</th>\n",
              "      <th>Ebitda</th>\n",
              "      <th>Revenuegrowth</th>\n",
              "      <th>City</th>\n",
              "      <th>State</th>\n",
              "      <th>Country</th>\n",
              "      <th>Fulltimeemployees</th>\n",
              "      <th>Longbusinesssummary</th>\n",
              "      <th>Weight</th>\n",
              "    </tr>\n",
              "  </thead>\n",
              "  <tbody>\n",
              "    <tr>\n",
              "      <th>10</th>\n",
              "      <td>NYQ</td>\n",
              "      <td>JPM</td>\n",
              "      <td>JP Morgan Chase &amp; Co.</td>\n",
              "      <td>JPMorgan Chase &amp; Co.</td>\n",
              "      <td>Financial Services</td>\n",
              "      <td>Banks—Diversified</td>\n",
              "      <td>126.08</td>\n",
              "      <td>381813096448</td>\n",
              "      <td>NaN</td>\n",
              "      <td>-0.096</td>\n",
              "      <td>New York</td>\n",
              "      <td>NY</td>\n",
              "      <td>United States</td>\n",
              "      <td>278494.0</td>\n",
              "      <td>JPMorgan Chase &amp; Co. operates as a financial s...</td>\n",
              "      <td>0.011001</td>\n",
              "    </tr>\n",
              "    <tr>\n",
              "      <th>46</th>\n",
              "      <td>NYQ</td>\n",
              "      <td>MS</td>\n",
              "      <td>Morgan Stanley</td>\n",
              "      <td>Morgan Stanley</td>\n",
              "      <td>Financial Services</td>\n",
              "      <td>Capital Markets</td>\n",
              "      <td>82.22</td>\n",
              "      <td>147536396288</td>\n",
              "      <td>NaN</td>\n",
              "      <td>-0.117</td>\n",
              "      <td>New York</td>\n",
              "      <td>NY</td>\n",
              "      <td>United States</td>\n",
              "      <td>78386.0</td>\n",
              "      <td>Morgan Stanley, a financial holding company, p...</td>\n",
              "      <td>0.004251</td>\n",
              "    </tr>\n",
              "    <tr>\n",
              "      <th>54</th>\n",
              "      <td>NYQ</td>\n",
              "      <td>LMT</td>\n",
              "      <td>Lockheed Martin Corporation</td>\n",
              "      <td>Lockheed Martin Corporation</td>\n",
              "      <td>Industrials</td>\n",
              "      <td>Aerospace &amp; Defense</td>\n",
              "      <td>484.87</td>\n",
              "      <td>133720350720</td>\n",
              "      <td>7.152000e+09</td>\n",
              "      <td>-0.093</td>\n",
              "      <td>Bethesda</td>\n",
              "      <td>MD</td>\n",
              "      <td>United States</td>\n",
              "      <td>114000.0</td>\n",
              "      <td>Lockheed Martin Corporation, a security and ae...</td>\n",
              "      <td>0.003853</td>\n",
              "    </tr>\n",
              "    <tr>\n",
              "      <th>72</th>\n",
              "      <td>NYQ</td>\n",
              "      <td>BLK</td>\n",
              "      <td>BlackRock, Inc.</td>\n",
              "      <td>BlackRock, Inc.</td>\n",
              "      <td>Financial Services</td>\n",
              "      <td>Asset Management</td>\n",
              "      <td>663.75</td>\n",
              "      <td>100072914944</td>\n",
              "      <td>7.407000e+09</td>\n",
              "      <td>-0.146</td>\n",
              "      <td>New York</td>\n",
              "      <td>NY</td>\n",
              "      <td>United States</td>\n",
              "      <td>18400.0</td>\n",
              "      <td>BlackRock, Inc. is a publicly owned investment...</td>\n",
              "      <td>0.002883</td>\n",
              "    </tr>\n",
              "    <tr>\n",
              "      <th>114</th>\n",
              "      <td>NYQ</td>\n",
              "      <td>USB</td>\n",
              "      <td>U.S. Bancorp</td>\n",
              "      <td>U.S. Bancorp</td>\n",
              "      <td>Financial Services</td>\n",
              "      <td>Banks—Regional</td>\n",
              "      <td>42.86</td>\n",
              "      <td>63552806912</td>\n",
              "      <td>NaN</td>\n",
              "      <td>-0.073</td>\n",
              "      <td>Minneapolis</td>\n",
              "      <td>MN</td>\n",
              "      <td>United States</td>\n",
              "      <td>70000.0</td>\n",
              "      <td>U.S. Bancorp, a financial services holding com...</td>\n",
              "      <td>0.001831</td>\n",
              "    </tr>\n",
              "  </tbody>\n",
              "</table>\n",
              "</div>\n",
              "    <div class=\"colab-df-buttons\">\n",
              "\n",
              "  <div class=\"colab-df-container\">\n",
              "    <button class=\"colab-df-convert\" onclick=\"convertToInteractive('df-8a12f3e4-4e3a-4623-ac4a-e27d1b321dc8')\"\n",
              "            title=\"Convert this dataframe to an interactive table.\"\n",
              "            style=\"display:none;\">\n",
              "\n",
              "  <svg xmlns=\"http://www.w3.org/2000/svg\" height=\"24px\" viewBox=\"0 -960 960 960\">\n",
              "    <path d=\"M120-120v-720h720v720H120Zm60-500h600v-160H180v160Zm220 220h160v-160H400v160Zm0 220h160v-160H400v160ZM180-400h160v-160H180v160Zm440 0h160v-160H620v160ZM180-180h160v-160H180v160Zm440 0h160v-160H620v160Z\"/>\n",
              "  </svg>\n",
              "    </button>\n",
              "\n",
              "  <style>\n",
              "    .colab-df-container {\n",
              "      display:flex;\n",
              "      gap: 12px;\n",
              "    }\n",
              "\n",
              "    .colab-df-convert {\n",
              "      background-color: #E8F0FE;\n",
              "      border: none;\n",
              "      border-radius: 50%;\n",
              "      cursor: pointer;\n",
              "      display: none;\n",
              "      fill: #1967D2;\n",
              "      height: 32px;\n",
              "      padding: 0 0 0 0;\n",
              "      width: 32px;\n",
              "    }\n",
              "\n",
              "    .colab-df-convert:hover {\n",
              "      background-color: #E2EBFA;\n",
              "      box-shadow: 0px 1px 2px rgba(60, 64, 67, 0.3), 0px 1px 3px 1px rgba(60, 64, 67, 0.15);\n",
              "      fill: #174EA6;\n",
              "    }\n",
              "\n",
              "    .colab-df-buttons div {\n",
              "      margin-bottom: 4px;\n",
              "    }\n",
              "\n",
              "    [theme=dark] .colab-df-convert {\n",
              "      background-color: #3B4455;\n",
              "      fill: #D2E3FC;\n",
              "    }\n",
              "\n",
              "    [theme=dark] .colab-df-convert:hover {\n",
              "      background-color: #434B5C;\n",
              "      box-shadow: 0px 1px 3px 1px rgba(0, 0, 0, 0.15);\n",
              "      filter: drop-shadow(0px 1px 2px rgba(0, 0, 0, 0.3));\n",
              "      fill: #FFFFFF;\n",
              "    }\n",
              "  </style>\n",
              "\n",
              "    <script>\n",
              "      const buttonEl =\n",
              "        document.querySelector('#df-8a12f3e4-4e3a-4623-ac4a-e27d1b321dc8 button.colab-df-convert');\n",
              "      buttonEl.style.display =\n",
              "        google.colab.kernel.accessAllowed ? 'block' : 'none';\n",
              "\n",
              "      async function convertToInteractive(key) {\n",
              "        const element = document.querySelector('#df-8a12f3e4-4e3a-4623-ac4a-e27d1b321dc8');\n",
              "        const dataTable =\n",
              "          await google.colab.kernel.invokeFunction('convertToInteractive',\n",
              "                                                    [key], {});\n",
              "        if (!dataTable) return;\n",
              "\n",
              "        const docLinkHtml = 'Like what you see? Visit the ' +\n",
              "          '<a target=\"_blank\" href=https://colab.research.google.com/notebooks/data_table.ipynb>data table notebook</a>'\n",
              "          + ' to learn more about interactive tables.';\n",
              "        element.innerHTML = '';\n",
              "        dataTable['output_type'] = 'display_data';\n",
              "        await google.colab.output.renderOutput(dataTable, element);\n",
              "        const docLink = document.createElement('div');\n",
              "        docLink.innerHTML = docLinkHtml;\n",
              "        element.appendChild(docLink);\n",
              "      }\n",
              "    </script>\n",
              "  </div>\n",
              "\n",
              "\n",
              "<div id=\"df-4de580b0-d93b-440b-9a4b-43f540959f6e\">\n",
              "  <button class=\"colab-df-quickchart\" onclick=\"quickchart('df-4de580b0-d93b-440b-9a4b-43f540959f6e')\"\n",
              "            title=\"Suggest charts\"\n",
              "            style=\"display:none;\">\n",
              "\n",
              "<svg xmlns=\"http://www.w3.org/2000/svg\" height=\"24px\"viewBox=\"0 0 24 24\"\n",
              "     width=\"24px\">\n",
              "    <g>\n",
              "        <path d=\"M19 3H5c-1.1 0-2 .9-2 2v14c0 1.1.9 2 2 2h14c1.1 0 2-.9 2-2V5c0-1.1-.9-2-2-2zM9 17H7v-7h2v7zm4 0h-2V7h2v10zm4 0h-2v-4h2v4z\"/>\n",
              "    </g>\n",
              "</svg>\n",
              "  </button>\n",
              "\n",
              "<style>\n",
              "  .colab-df-quickchart {\n",
              "      --bg-color: #E8F0FE;\n",
              "      --fill-color: #1967D2;\n",
              "      --hover-bg-color: #E2EBFA;\n",
              "      --hover-fill-color: #174EA6;\n",
              "      --disabled-fill-color: #AAA;\n",
              "      --disabled-bg-color: #DDD;\n",
              "  }\n",
              "\n",
              "  [theme=dark] .colab-df-quickchart {\n",
              "      --bg-color: #3B4455;\n",
              "      --fill-color: #D2E3FC;\n",
              "      --hover-bg-color: #434B5C;\n",
              "      --hover-fill-color: #FFFFFF;\n",
              "      --disabled-bg-color: #3B4455;\n",
              "      --disabled-fill-color: #666;\n",
              "  }\n",
              "\n",
              "  .colab-df-quickchart {\n",
              "    background-color: var(--bg-color);\n",
              "    border: none;\n",
              "    border-radius: 50%;\n",
              "    cursor: pointer;\n",
              "    display: none;\n",
              "    fill: var(--fill-color);\n",
              "    height: 32px;\n",
              "    padding: 0;\n",
              "    width: 32px;\n",
              "  }\n",
              "\n",
              "  .colab-df-quickchart:hover {\n",
              "    background-color: var(--hover-bg-color);\n",
              "    box-shadow: 0 1px 2px rgba(60, 64, 67, 0.3), 0 1px 3px 1px rgba(60, 64, 67, 0.15);\n",
              "    fill: var(--button-hover-fill-color);\n",
              "  }\n",
              "\n",
              "  .colab-df-quickchart-complete:disabled,\n",
              "  .colab-df-quickchart-complete:disabled:hover {\n",
              "    background-color: var(--disabled-bg-color);\n",
              "    fill: var(--disabled-fill-color);\n",
              "    box-shadow: none;\n",
              "  }\n",
              "\n",
              "  .colab-df-spinner {\n",
              "    border: 2px solid var(--fill-color);\n",
              "    border-color: transparent;\n",
              "    border-bottom-color: var(--fill-color);\n",
              "    animation:\n",
              "      spin 1s steps(1) infinite;\n",
              "  }\n",
              "\n",
              "  @keyframes spin {\n",
              "    0% {\n",
              "      border-color: transparent;\n",
              "      border-bottom-color: var(--fill-color);\n",
              "      border-left-color: var(--fill-color);\n",
              "    }\n",
              "    20% {\n",
              "      border-color: transparent;\n",
              "      border-left-color: var(--fill-color);\n",
              "      border-top-color: var(--fill-color);\n",
              "    }\n",
              "    30% {\n",
              "      border-color: transparent;\n",
              "      border-left-color: var(--fill-color);\n",
              "      border-top-color: var(--fill-color);\n",
              "      border-right-color: var(--fill-color);\n",
              "    }\n",
              "    40% {\n",
              "      border-color: transparent;\n",
              "      border-right-color: var(--fill-color);\n",
              "      border-top-color: var(--fill-color);\n",
              "    }\n",
              "    60% {\n",
              "      border-color: transparent;\n",
              "      border-right-color: var(--fill-color);\n",
              "    }\n",
              "    80% {\n",
              "      border-color: transparent;\n",
              "      border-right-color: var(--fill-color);\n",
              "      border-bottom-color: var(--fill-color);\n",
              "    }\n",
              "    90% {\n",
              "      border-color: transparent;\n",
              "      border-bottom-color: var(--fill-color);\n",
              "    }\n",
              "  }\n",
              "</style>\n",
              "\n",
              "  <script>\n",
              "    async function quickchart(key) {\n",
              "      const quickchartButtonEl =\n",
              "        document.querySelector('#' + key + ' button');\n",
              "      quickchartButtonEl.disabled = true;  // To prevent multiple clicks.\n",
              "      quickchartButtonEl.classList.add('colab-df-spinner');\n",
              "      try {\n",
              "        const charts = await google.colab.kernel.invokeFunction(\n",
              "            'suggestCharts', [key], {});\n",
              "      } catch (error) {\n",
              "        console.error('Error during call to suggestCharts:', error);\n",
              "      }\n",
              "      quickchartButtonEl.classList.remove('colab-df-spinner');\n",
              "      quickchartButtonEl.classList.add('colab-df-quickchart-complete');\n",
              "    }\n",
              "    (() => {\n",
              "      let quickchartButtonEl =\n",
              "        document.querySelector('#df-4de580b0-d93b-440b-9a4b-43f540959f6e button');\n",
              "      quickchartButtonEl.style.display =\n",
              "        google.colab.kernel.accessAllowed ? 'block' : 'none';\n",
              "    })();\n",
              "  </script>\n",
              "</div>\n",
              "\n",
              "    </div>\n",
              "  </div>\n"
            ],
            "application/vnd.google.colaboratory.intrinsic+json": {
              "type": "dataframe",
              "variable_name": "df1",
              "summary": "{\n  \"name\": \"df1\",\n  \"rows\": 41,\n  \"fields\": [\n    {\n      \"column\": \"Exchange\",\n      \"properties\": {\n        \"dtype\": \"category\",\n        \"num_unique_values\": 2,\n        \"samples\": [\n          \"NMS\",\n          \"NYQ\"\n        ],\n        \"semantic_type\": \"\",\n        \"description\": \"\"\n      }\n    },\n    {\n      \"column\": \"Symbol\",\n      \"properties\": {\n        \"dtype\": \"string\",\n        \"num_unique_values\": 41,\n        \"samples\": [\n          \"HOLX\",\n          \"LVS\"\n        ],\n        \"semantic_type\": \"\",\n        \"description\": \"\"\n      }\n    },\n    {\n      \"column\": \"Shortname\",\n      \"properties\": {\n        \"dtype\": \"string\",\n        \"num_unique_values\": 41,\n        \"samples\": [\n          \"Hologic, Inc.\",\n          \"Las Vegas Sands Corp.\"\n        ],\n        \"semantic_type\": \"\",\n        \"description\": \"\"\n      }\n    },\n    {\n      \"column\": \"Longname\",\n      \"properties\": {\n        \"dtype\": \"string\",\n        \"num_unique_values\": 41,\n        \"samples\": [\n          \"Hologic, Inc.\",\n          \"Las Vegas Sands Corp.\"\n        ],\n        \"semantic_type\": \"\",\n        \"description\": \"\"\n      }\n    },\n    {\n      \"column\": \"Sector\",\n      \"properties\": {\n        \"dtype\": \"category\",\n        \"num_unique_values\": 10,\n        \"samples\": [\n          \"Communication Services\",\n          \"Industrials\"\n        ],\n        \"semantic_type\": \"\",\n        \"description\": \"\"\n      }\n    },\n    {\n      \"column\": \"Industry\",\n      \"properties\": {\n        \"dtype\": \"string\",\n        \"num_unique_values\": 26,\n        \"samples\": [\n          \"Drug Manufacturers\\u2014General\",\n          \"Medical Instruments & Supplies\"\n        ],\n        \"semantic_type\": \"\",\n        \"description\": \"\"\n      }\n    },\n    {\n      \"column\": \"Currentprice\",\n      \"properties\": {\n        \"dtype\": \"number\",\n        \"std\": 140.30600482690616,\n        \"min\": 7.34,\n        \"max\": 663.75,\n        \"num_unique_values\": 41,\n        \"samples\": [\n          66.93,\n          37.09\n        ],\n        \"semantic_type\": \"\",\n        \"description\": \"\"\n      }\n    },\n    {\n      \"column\": \"Marketcap\",\n      \"properties\": {\n        \"dtype\": \"number\",\n        \"std\": 63270331155,\n        \"min\": 6402270208,\n        \"max\": 381813096448,\n        \"num_unique_values\": 41,\n        \"samples\": [\n          16827607040,\n          28336390144\n        ],\n        \"semantic_type\": \"\",\n        \"description\": \"\"\n      }\n    },\n    {\n      \"column\": \"Ebitda\",\n      \"properties\": {\n        \"dtype\": \"number\",\n        \"std\": 2546863623.928721,\n        \"min\": 164000000.0,\n        \"max\": 11479000064.0,\n        \"num_unique_values\": 27,\n        \"samples\": [\n          164000000.0,\n          1282081024.0\n        ],\n        \"semantic_type\": \"\",\n        \"description\": \"\"\n      }\n    },\n    {\n      \"column\": \"Revenuegrowth\",\n      \"properties\": {\n        \"dtype\": \"number\",\n        \"std\": 0.04139467975712727,\n        \"min\": -0.216,\n        \"max\": -0.051,\n        \"num_unique_values\": 34,\n        \"samples\": [\n          -0.216,\n          -0.17\n        ],\n        \"semantic_type\": \"\",\n        \"description\": \"\"\n      }\n    },\n    {\n      \"column\": \"City\",\n      \"properties\": {\n        \"dtype\": \"string\",\n        \"num_unique_values\": 35,\n        \"samples\": [\n          \"Canonsburg\",\n          \"Baltimore\"\n        ],\n        \"semantic_type\": \"\",\n        \"description\": \"\"\n      }\n    },\n    {\n      \"column\": \"State\",\n      \"properties\": {\n        \"dtype\": \"category\",\n        \"num_unique_values\": 20,\n        \"samples\": [\n          \"NY\",\n          \"UT\"\n        ],\n        \"semantic_type\": \"\",\n        \"description\": \"\"\n      }\n    },\n    {\n      \"column\": \"Country\",\n      \"properties\": {\n        \"dtype\": \"category\",\n        \"num_unique_values\": 4,\n        \"samples\": [\n          \"Switzerland\",\n          \"Ireland\"\n        ],\n        \"semantic_type\": \"\",\n        \"description\": \"\"\n      }\n    },\n    {\n      \"column\": \"Fulltimeemployees\",\n      \"properties\": {\n        \"dtype\": \"number\",\n        \"std\": 49087.39586142017,\n        \"min\": 1947.0,\n        \"max\": 278494.0,\n        \"num_unique_values\": 39,\n        \"samples\": [\n          9895.0,\n          8506.0\n        ],\n        \"semantic_type\": \"\",\n        \"description\": \"\"\n      }\n    },\n    {\n      \"column\": \"Longbusinesssummary\",\n      \"properties\": {\n        \"dtype\": \"string\",\n        \"num_unique_values\": 41,\n        \"samples\": [\n          \"Hologic, Inc. develops, manufactures, and supplies diagnostics products, medical imaging systems, and surgical products for women's health through early detection and treatment in the United States, Europe, the Asia-Pacific, and internationally. It operates through four segments: Diagnostics, Breast Health, GYN Surgical, and Skeletal Health. The company provides Aptima molecular diagnostic assays to detect the infectious microorganisms; Aptima viral load tests for HIV, Hepatitis C, and Hepatitis B; Aptima SARS-CoV-2 and Panther Fusion SARS-CoV-2 assays for the detection of SARS-CoV-2; ThinPrep System for use in cytology applications; Rapid Fetal Fibronectin Test that assists physicians in assessing the risk of pre-term birth; and various diagnostic tests for the detection of Group B Streptococcus. It also offers breast imaging and analytics, such as 2D and 3D digital mammography systems and reading workstations, minimally invasive breast biopsy guidance systems and devices, breast biopsy site markers and localization, specimen radiology, and ultrasound and connectivity solutions; and breast conserving surgery products. In addition, the company provides NovaSure Endometrial Ablation System for the treatment of abnormal uterine bleeding; MyoSure Hysteroscopic Tissue Removal System for the removal of fibroids, polyps, and other pathology within the uterus; and Fluent Fluid Management System that provides liquid distention during diagnostic and operative hysteroscopic procedures. Further, it offers Horizon DXA, a dual energy X-ray system; and the Fluoroscan Insight FD mini C-arm to perform minimally invasive orthopedic surgical procedures. The company sells its products through direct sales and service forces, and independent distributors and sales representatives. Hologic, Inc. was incorporated in 1985 and is headquartered in Marlborough, Massachusetts.\",\n          \"Las Vegas Sands Corp., together with its subsidiaries, develops, owns, and operates integrated resorts in Asia and the United States. It owns and operates The Venetian Macao Resort Hotel, the Londoner Macao, The Parisian Macao, The Plaza Macao and Four Seasons Hotel Macao, Cotai Strip, and the Sands Macao in Macao, the People's Republic of China; and Marina Bay Sands in Singapore. The company also owns and operates The Venetian Resort Hotel Casino on the Las Vegas Strip; and the Sands Expo and Convention Center in Las Vegas, Nevada. Its integrated resorts feature accommodations, gaming, entertainment and retail malls, convention and exhibition facilities, celebrity chef restaurants, and other amenities. Las Vegas Sands Corp. was founded in 1988 and is based in Las Vegas, Nevada.\"\n        ],\n        \"semantic_type\": \"\",\n        \"description\": \"\"\n      }\n    },\n    {\n      \"column\": \"Weight\",\n      \"properties\": {\n        \"dtype\": \"number\",\n        \"std\": 0.0018230469852173123,\n        \"min\": 0.0001844725511647,\n        \"max\": 0.0110014156981147,\n        \"num_unique_values\": 41,\n        \"samples\": [\n          0.0004848641965762,\n          0.0008164738461258\n        ],\n        \"semantic_type\": \"\",\n        \"description\": \"\"\n      }\n    }\n  ]\n}"
            }
          },
          "metadata": {},
          "execution_count": 27
        }
      ]
    },
    {
      "cell_type": "markdown",
      "source": [
        "### Calculating p-value and Pearson Correlation Coefficient\n",
        "To do this, we use the scipy stats library."
      ],
      "metadata": {
        "id": "mOFM0PZIOTsn"
      }
    },
    {
      "cell_type": "code",
      "source": [
        "pearson_corr, p_value = stats.pearsonr(df['Revenuegrowth'], df['Marketcap'])\n",
        "\n",
        "print(f'Pearson correlation coefficient between Revenuegrowth (Independent variable) and Marketcap (dependent variable) is {round(pearson_corr,3)}')\n",
        "print(f'p_value for Revenuegrowth and Marketcap is {round(p_value,3)}')"
      ],
      "metadata": {
        "colab": {
          "base_uri": "https://localhost:8080/"
        },
        "id": "7HeHy9tiOWRm",
        "outputId": "3ec9d1f6-b31d-4008-e392-019ebb4a5d71"
      },
      "execution_count": null,
      "outputs": [
        {
          "output_type": "stream",
          "name": "stdout",
          "text": [
            "Pearson correlation coefficient between Revenuegrowth (Independent variable) and Marketcap (dependent variable) is -0.021\n",
            "p_value for Revenuegrowth and Marketcap is 0.643\n"
          ]
        }
      ]
    },
    {
      "cell_type": "markdown",
      "source": [
        "A negative, or inverse correlation, between two variables, indicates that one variable increases while the other decreases, and vice versa."
      ],
      "metadata": {
        "id": "2tRCw6qzOsQA"
      }
    },
    {
      "cell_type": "markdown",
      "source": [
        "### Calculating Standard Deviation"
      ],
      "metadata": {
        "id": "r_O4UEtMOsx5"
      }
    },
    {
      "cell_type": "code",
      "source": [
        "std_Revenuegrowth_x = df1['Revenuegrowth'].std()\n",
        "print(round(std_Revenuegrowth_x, 2))\n",
        "std_marketcap_y = df1['Marketcap'].std()\n",
        "print(round(std_marketcap_y, 2))\n"
      ],
      "metadata": {
        "colab": {
          "base_uri": "https://localhost:8080/"
        },
        "id": "HnUml8woO62u",
        "outputId": "4f5bf351-b4c5-4509-aa5c-bd370459a083"
      },
      "execution_count": null,
      "outputs": [
        {
          "output_type": "stream",
          "name": "stdout",
          "text": [
            "0.04\n",
            "63270331155.23\n"
          ]
        }
      ]
    },
    {
      "cell_type": "markdown",
      "source": [
        "### Calculating R"
      ],
      "metadata": {
        "id": "02h1T_PkPMPQ"
      }
    },
    {
      "cell_type": "code",
      "source": [
        "r_Revenuegrowth_Marketcap\t= df['Revenuegrowth'].corr(df['Marketcap'])\n",
        "r_Revenuegrowth_Marketcap = round(r_Revenuegrowth_Marketcap,2)\n",
        "print( 'Revenue growth and marketcap is ',r_Revenuegrowth_Marketcap)"
      ],
      "metadata": {
        "colab": {
          "base_uri": "https://localhost:8080/"
        },
        "id": "6wWz-RIzPN0S",
        "outputId": "c8549015-3015-43f3-f832-7bafd4257284"
      },
      "execution_count": null,
      "outputs": [
        {
          "output_type": "stream",
          "name": "stdout",
          "text": [
            "Revenue growth and marketcap is  -0.02\n"
          ]
        }
      ]
    },
    {
      "cell_type": "markdown",
      "source": [
        "### Calculating the Slope of the Best-Fit Line\n",
        "We use the generic form for the line’s equation $y=mx + b$, where $m$ is the slope and $b$ is the y-intercept. The slope is $m = r(\\large\\frac{S_{y}}{S_{x}})$. We already found $r$ in step 1. In this step, we will find the standard deviation, ${S_x}$ and ${S_y}$.\n",
        "\n",
        "We can say that $\\hat{y} = r(\\frac{S_{y}}{S_{x}})x+ b$\n"
      ],
      "metadata": {
        "id": "km92276HO-HJ"
      }
    },
    {
      "cell_type": "code",
      "source": [
        "m = r_Revenuegrowth_Marketcap * (std_Revenuegrowth_x/ std_marketcap_y)\n",
        "print(f'The Slope of the graph is {m}')"
      ],
      "metadata": {
        "colab": {
          "base_uri": "https://localhost:8080/"
        },
        "id": "xdoU9ZfUPClL",
        "outputId": "7d81dc58-c126-4248-c3f9-c27529d30a95"
      },
      "execution_count": null,
      "outputs": [
        {
          "output_type": "stream",
          "name": "stdout",
          "text": [
            "The Slope of the graph is -1.3085020736044818e-14\n"
          ]
        }
      ]
    },
    {
      "cell_type": "markdown",
      "source": [
        "We see that the slope is negative, however, it is very small"
      ],
      "metadata": {
        "id": "12_VApjOPY7Q"
      }
    },
    {
      "cell_type": "code",
      "source": [
        "mean_Revenuegrowth_x = df['Revenuegrowth'].mean()\n",
        "round(mean_Revenuegrowth_x, 2)\n",
        "mean_marketcap_y = df['Marketcap'].mean()\n",
        "round(mean_marketcap_y, 2)\n",
        "print(mean_Revenuegrowth_x)\n",
        "print(mean_marketcap_y)\n"
      ],
      "metadata": {
        "colab": {
          "base_uri": "https://localhost:8080/"
        },
        "id": "vitk21yFPDqJ",
        "outputId": "17fc4a56-6a04-4fde-a551-7c2522dad7b2"
      },
      "execution_count": null,
      "outputs": [
        {
          "output_type": "stream",
          "name": "stdout",
          "text": [
            "0.6103569979716025\n",
            "70308670721.55782\n"
          ]
        }
      ]
    },
    {
      "cell_type": "markdown",
      "source": [
        "### Finding the y-intercept"
      ],
      "metadata": {
        "id": "JL1lpN2IPggG"
      }
    },
    {
      "cell_type": "code",
      "source": [
        "# y = (m * x) + b\n",
        "# b = y - (m * x)\n",
        "b = mean_marketcap_y - (m * mean_Revenuegrowth_x)\n",
        "\n",
        "print(round(b,2))"
      ],
      "metadata": {
        "colab": {
          "base_uri": "https://localhost:8080/"
        },
        "id": "FdyWn8UpPi7C",
        "outputId": "fcdef2dd-4b4c-4803-b206-1b67a7d2e0ef"
      },
      "execution_count": null,
      "outputs": [
        {
          "output_type": "stream",
          "name": "stdout",
          "text": [
            "70308670721.56\n"
          ]
        }
      ]
    },
    {
      "cell_type": "markdown",
      "source": [
        "### Graph the Best-Fit Line"
      ],
      "metadata": {
        "id": "uOXtdI7OPlh7"
      }
    },
    {
      "cell_type": "code",
      "source": [
        "sns.lmplot(\n",
        "    data=df1,\n",
        "    x='Marketcap',\n",
        "    y='Revenuegrowth',\n",
        "    ci=None # You can turn off the confidence interval by setting ci=None\n",
        ").set(title=f\"Best fit line between Marketcap and Revenuegrowth\");"
      ],
      "metadata": {
        "colab": {
          "base_uri": "https://localhost:8080/",
          "height": 529
        },
        "id": "uiopkYyCPkmZ",
        "outputId": "d0e9d5e5-8610-497c-f2b4-6ac712c4ba22"
      },
      "execution_count": null,
      "outputs": [
        {
          "output_type": "display_data",
          "data": {
            "text/plain": [
              "<Figure size 500x500 with 1 Axes>"
            ],
            "image/png": "[encoded data removed]"
          },
          "metadata": {}
        }
      ]
    },
    {
      "cell_type": "markdown",
      "source": [
        "##Conclusion  \n",
        "We can see that the regression line has a negative slope, meaning that a company starting with a low market cap is more likely to have higher revenue than a company starting with a high market cap.   \n",
        "This pattern could suggest that smaller companies (by market cap) have more variable revenue growth rates, while larger companies tend to show more stable but slightly lower growth rates."
      ],
      "metadata": {
        "id": "I1VDC_twPp1N"
      }
    },
    {
      "cell_type": "markdown",
      "source": [
        "‎"
      ],
      "metadata": {
        "id": "I7KD6t23SPd-"
      }
    },
    {
      "cell_type": "markdown",
      "source": [
        "________________________________________________________________________________________________________________________________________________________________________________________________________________________________________________________________________________________________________________\n"
      ],
      "metadata": {
        "id": "ib4RdqhFPy-0"
      }
    },
    {
      "cell_type": "markdown",
      "source": [
        "‎"
      ],
      "metadata": {
        "id": "4Iwr0-IDSP8g"
      }
    },
    {
      "cell_type": "markdown",
      "source": [
        "#Project Conclusion\n",
        "\n",
        "Through these 3 methods, we have found out the following things:  \n",
        "1) There is a strong correlation between the marketcap, and the number of full time employees of a company.    \n",
        "2) There is a statistical significance between the various sectors of the S&P 500 companies.\n",
        "3) Companies with smaller marketcaps have more variable growth rates than companies with higher marketcaps.  \n",
        "\n",
        "From this, we can derive that the ideal investment is:  \n",
        "1) A company with a large number of employees.  \n",
        "2) No specific sector is better than other, investment in any sector is good.\n",
        "3) Smaller companies are more likely to have higher growth rates and thus make for better investments.\n"
      ],
      "metadata": {
        "id": "lpq4BPJKP18p"
      }
    },
    {
      "cell_type": "markdown",
      "source": [
        "# Areas of Improvement\n",
        "There are some areas where improvement is needed.  \n",
        "1) While analyzing the regression and correlation, the dataset is very small after removing NaN values. A larger dataset can help derive more accurate results.  \n",
        "2) Some creative liberties had to be taken to derive meaningful conclusions. It is possible to avoid this by using a larger dataset with more information.    \n",
        "3) \"Miracles\" are bound to occur in the stock market and cannot be predicted."
      ],
      "metadata": {
        "id": "DwZW8L6mQyMN"
      }
    }
  ]
}